{
  "nbformat": 4,
  "nbformat_minor": 0,
  "metadata": {
    "colab": {
      "name": "Task2- Stock Market Prediction And Forecasting Using Stacked LSTM .ipynb",
      "provenance": []
    },
    "kernelspec": {
      "name": "python3",
      "display_name": "Python 3"
    },
    "language_info": {
      "name": "python"
    }
  },
  "cells": [
    {
      "cell_type": "code",
      "execution_count": 1,
      "metadata": {
        "id": "yGxUs5TvlwWu"
      },
      "outputs": [],
      "source": [
        "import pandas as pd\n",
        "import numpy as np\n",
        "import scipy.stats as st\n",
        "import os\n",
        "import matplotlib.pyplot as plt\n",
        "import seaborn as sns\n",
        "import datetime\n",
        "import math\n",
        "from sklearn.metrics import mean_squared_error\n",
        "from sklearn.preprocessing import MinMaxScaler"
      ]
    },
    {
      "cell_type": "code",
      "source": [
        "pip install keras"
      ],
      "metadata": {
        "colab": {
          "base_uri": "https://localhost:8080/",
          "height": 0
        },
        "id": "f5ZjxOpvl3cw",
        "outputId": "5a0ef92d-b82b-4b6c-da2e-2bc92c6a3433"
      },
      "execution_count": 2,
      "outputs": [
        {
          "output_type": "stream",
          "name": "stdout",
          "text": [
            "Looking in indexes: https://pypi.org/simple, https://us-python.pkg.dev/colab-wheels/public/simple/\n",
            "Requirement already satisfied: keras in /usr/local/lib/python3.7/dist-packages (2.8.0)\n"
          ]
        }
      ]
    },
    {
      "cell_type": "code",
      "source": [
        "pip install tensorflow"
      ],
      "metadata": {
        "colab": {
          "base_uri": "https://localhost:8080/",
          "height": 0
        },
        "id": "qFFOUJ53l3fw",
        "outputId": "939534d0-ac9f-42e7-8172-26e549104331"
      },
      "execution_count": 3,
      "outputs": [
        {
          "output_type": "stream",
          "name": "stdout",
          "text": [
            "Looking in indexes: https://pypi.org/simple, https://us-python.pkg.dev/colab-wheels/public/simple/\n",
            "Requirement already satisfied: tensorflow in /usr/local/lib/python3.7/dist-packages (2.8.0+zzzcolab20220506162203)\n",
            "Requirement already satisfied: numpy>=1.20 in /usr/local/lib/python3.7/dist-packages (from tensorflow) (1.21.6)\n",
            "Requirement already satisfied: typing-extensions>=3.6.6 in /usr/local/lib/python3.7/dist-packages (from tensorflow) (4.2.0)\n",
            "Requirement already satisfied: absl-py>=0.4.0 in /usr/local/lib/python3.7/dist-packages (from tensorflow) (1.0.0)\n",
            "Requirement already satisfied: keras-preprocessing>=1.1.1 in /usr/local/lib/python3.7/dist-packages (from tensorflow) (1.1.2)\n",
            "Requirement already satisfied: setuptools in /usr/local/lib/python3.7/dist-packages (from tensorflow) (57.4.0)\n",
            "Requirement already satisfied: tensorflow-io-gcs-filesystem>=0.23.1 in /usr/local/lib/python3.7/dist-packages (from tensorflow) (0.26.0)\n",
            "Requirement already satisfied: gast>=0.2.1 in /usr/local/lib/python3.7/dist-packages (from tensorflow) (0.5.3)\n",
            "Requirement already satisfied: termcolor>=1.1.0 in /usr/local/lib/python3.7/dist-packages (from tensorflow) (1.1.0)\n",
            "Requirement already satisfied: astunparse>=1.6.0 in /usr/local/lib/python3.7/dist-packages (from tensorflow) (1.6.3)\n",
            "Requirement already satisfied: opt-einsum>=2.3.2 in /usr/local/lib/python3.7/dist-packages (from tensorflow) (3.3.0)\n",
            "Requirement already satisfied: tensorboard<2.9,>=2.8 in /usr/local/lib/python3.7/dist-packages (from tensorflow) (2.8.0)\n",
            "Requirement already satisfied: keras<2.9,>=2.8.0rc0 in /usr/local/lib/python3.7/dist-packages (from tensorflow) (2.8.0)\n",
            "Requirement already satisfied: wrapt>=1.11.0 in /usr/local/lib/python3.7/dist-packages (from tensorflow) (1.14.1)\n",
            "Requirement already satisfied: six>=1.12.0 in /usr/local/lib/python3.7/dist-packages (from tensorflow) (1.15.0)\n",
            "Requirement already satisfied: flatbuffers>=1.12 in /usr/local/lib/python3.7/dist-packages (from tensorflow) (2.0)\n",
            "Collecting tf-estimator-nightly==2.8.0.dev2021122109\n",
            "  Downloading tf_estimator_nightly-2.8.0.dev2021122109-py2.py3-none-any.whl (462 kB)\n",
            "\u001b[K     |████████████████████████████████| 462 kB 6.7 MB/s \n",
            "\u001b[?25hRequirement already satisfied: google-pasta>=0.1.1 in /usr/local/lib/python3.7/dist-packages (from tensorflow) (0.2.0)\n",
            "Requirement already satisfied: protobuf>=3.9.2 in /usr/local/lib/python3.7/dist-packages (from tensorflow) (3.17.3)\n",
            "Requirement already satisfied: grpcio<2.0,>=1.24.3 in /usr/local/lib/python3.7/dist-packages (from tensorflow) (1.46.1)\n",
            "Requirement already satisfied: libclang>=9.0.1 in /usr/local/lib/python3.7/dist-packages (from tensorflow) (14.0.1)\n",
            "Requirement already satisfied: h5py>=2.9.0 in /usr/local/lib/python3.7/dist-packages (from tensorflow) (3.1.0)\n",
            "Requirement already satisfied: wheel<1.0,>=0.23.0 in /usr/local/lib/python3.7/dist-packages (from astunparse>=1.6.0->tensorflow) (0.37.1)\n",
            "Requirement already satisfied: cached-property in /usr/local/lib/python3.7/dist-packages (from h5py>=2.9.0->tensorflow) (1.5.2)\n",
            "Requirement already satisfied: google-auth<3,>=1.6.3 in /usr/local/lib/python3.7/dist-packages (from tensorboard<2.9,>=2.8->tensorflow) (1.35.0)\n",
            "Requirement already satisfied: requests<3,>=2.21.0 in /usr/local/lib/python3.7/dist-packages (from tensorboard<2.9,>=2.8->tensorflow) (2.23.0)\n",
            "Requirement already satisfied: tensorboard-data-server<0.7.0,>=0.6.0 in /usr/local/lib/python3.7/dist-packages (from tensorboard<2.9,>=2.8->tensorflow) (0.6.1)\n",
            "Requirement already satisfied: tensorboard-plugin-wit>=1.6.0 in /usr/local/lib/python3.7/dist-packages (from tensorboard<2.9,>=2.8->tensorflow) (1.8.1)\n",
            "Requirement already satisfied: werkzeug>=0.11.15 in /usr/local/lib/python3.7/dist-packages (from tensorboard<2.9,>=2.8->tensorflow) (1.0.1)\n",
            "Requirement already satisfied: google-auth-oauthlib<0.5,>=0.4.1 in /usr/local/lib/python3.7/dist-packages (from tensorboard<2.9,>=2.8->tensorflow) (0.4.6)\n",
            "Requirement already satisfied: markdown>=2.6.8 in /usr/local/lib/python3.7/dist-packages (from tensorboard<2.9,>=2.8->tensorflow) (3.3.7)\n",
            "Requirement already satisfied: pyasn1-modules>=0.2.1 in /usr/local/lib/python3.7/dist-packages (from google-auth<3,>=1.6.3->tensorboard<2.9,>=2.8->tensorflow) (0.2.8)\n",
            "Requirement already satisfied: rsa<5,>=3.1.4 in /usr/local/lib/python3.7/dist-packages (from google-auth<3,>=1.6.3->tensorboard<2.9,>=2.8->tensorflow) (4.8)\n",
            "Requirement already satisfied: cachetools<5.0,>=2.0.0 in /usr/local/lib/python3.7/dist-packages (from google-auth<3,>=1.6.3->tensorboard<2.9,>=2.8->tensorflow) (4.2.4)\n",
            "Requirement already satisfied: requests-oauthlib>=0.7.0 in /usr/local/lib/python3.7/dist-packages (from google-auth-oauthlib<0.5,>=0.4.1->tensorboard<2.9,>=2.8->tensorflow) (1.3.1)\n",
            "Requirement already satisfied: importlib-metadata>=4.4 in /usr/local/lib/python3.7/dist-packages (from markdown>=2.6.8->tensorboard<2.9,>=2.8->tensorflow) (4.11.3)\n",
            "Requirement already satisfied: zipp>=0.5 in /usr/local/lib/python3.7/dist-packages (from importlib-metadata>=4.4->markdown>=2.6.8->tensorboard<2.9,>=2.8->tensorflow) (3.8.0)\n",
            "Requirement already satisfied: pyasn1<0.5.0,>=0.4.6 in /usr/local/lib/python3.7/dist-packages (from pyasn1-modules>=0.2.1->google-auth<3,>=1.6.3->tensorboard<2.9,>=2.8->tensorflow) (0.4.8)\n",
            "Requirement already satisfied: urllib3!=1.25.0,!=1.25.1,<1.26,>=1.21.1 in /usr/local/lib/python3.7/dist-packages (from requests<3,>=2.21.0->tensorboard<2.9,>=2.8->tensorflow) (1.24.3)\n",
            "Requirement already satisfied: idna<3,>=2.5 in /usr/local/lib/python3.7/dist-packages (from requests<3,>=2.21.0->tensorboard<2.9,>=2.8->tensorflow) (2.10)\n",
            "Requirement already satisfied: certifi>=2017.4.17 in /usr/local/lib/python3.7/dist-packages (from requests<3,>=2.21.0->tensorboard<2.9,>=2.8->tensorflow) (2022.5.18.1)\n",
            "Requirement already satisfied: chardet<4,>=3.0.2 in /usr/local/lib/python3.7/dist-packages (from requests<3,>=2.21.0->tensorboard<2.9,>=2.8->tensorflow) (3.0.4)\n",
            "Requirement already satisfied: oauthlib>=3.0.0 in /usr/local/lib/python3.7/dist-packages (from requests-oauthlib>=0.7.0->google-auth-oauthlib<0.5,>=0.4.1->tensorboard<2.9,>=2.8->tensorflow) (3.2.0)\n",
            "Installing collected packages: tf-estimator-nightly\n",
            "Successfully installed tf-estimator-nightly-2.8.0.dev2021122109\n"
          ]
        }
      ]
    },
    {
      "cell_type": "code",
      "source": [
        "from keras.models import Sequential\n",
        "from keras.layers import Dense\n",
        "from keras.layers import LSTM\n",
        "from keras.layers import Dropout"
      ],
      "metadata": {
        "id": "kBQuUMTgl3kK"
      },
      "execution_count": 4,
      "outputs": []
    },
    {
      "cell_type": "code",
      "source": [
        "df=pd.read_csv('task2-dataset.csv')\n",
        "df"
      ],
      "metadata": {
        "colab": {
          "base_uri": "https://localhost:8080/",
          "height": 424
        },
        "id": "vqkRromUmNzy",
        "outputId": "70d5316e-8a52-460a-ca85-1e26e73f2ca6"
      },
      "execution_count": 5,
      "outputs": [
        {
          "output_type": "execute_result",
          "data": {
            "text/plain": [
              "            Date    Open    High     Low    Last   Close  \\\n",
              "0     2018-09-28  234.05  235.95  230.20  233.50  233.75   \n",
              "1     2018-09-27  234.55  236.80  231.10  233.80  233.25   \n",
              "2     2018-09-26  240.00  240.00  232.50  235.00  234.25   \n",
              "3     2018-09-25  233.30  236.75  232.00  236.25  236.10   \n",
              "4     2018-09-24  233.55  239.20  230.75  234.00  233.30   \n",
              "...          ...     ...     ...     ...     ...     ...   \n",
              "2030  2010-07-27  117.60  119.50  112.00  118.80  118.65   \n",
              "2031  2010-07-26  120.10  121.00  117.10  117.10  117.60   \n",
              "2032  2010-07-23  121.80  121.95  120.25  120.35  120.65   \n",
              "2033  2010-07-22  120.30  122.00  120.25  120.75  120.90   \n",
              "2034  2010-07-21  122.10  123.00  121.05  121.10  121.55   \n",
              "\n",
              "      Total Trade Quantity  Turnover (Lacs)  \n",
              "0                  3069914          7162.35  \n",
              "1                  5082859         11859.95  \n",
              "2                  2240909          5248.60  \n",
              "3                  2349368          5503.90  \n",
              "4                  3423509          7999.55  \n",
              "...                    ...              ...  \n",
              "2030                586100           694.98  \n",
              "2031                658440           780.01  \n",
              "2032                281312           340.31  \n",
              "2033                293312           355.17  \n",
              "2034                658666           803.56  \n",
              "\n",
              "[2035 rows x 8 columns]"
            ],
            "text/html": [
              "\n",
              "  <div id=\"df-18e1bb4b-2d2c-4a1f-8695-38195aacc0ea\">\n",
              "    <div class=\"colab-df-container\">\n",
              "      <div>\n",
              "<style scoped>\n",
              "    .dataframe tbody tr th:only-of-type {\n",
              "        vertical-align: middle;\n",
              "    }\n",
              "\n",
              "    .dataframe tbody tr th {\n",
              "        vertical-align: top;\n",
              "    }\n",
              "\n",
              "    .dataframe thead th {\n",
              "        text-align: right;\n",
              "    }\n",
              "</style>\n",
              "<table border=\"1\" class=\"dataframe\">\n",
              "  <thead>\n",
              "    <tr style=\"text-align: right;\">\n",
              "      <th></th>\n",
              "      <th>Date</th>\n",
              "      <th>Open</th>\n",
              "      <th>High</th>\n",
              "      <th>Low</th>\n",
              "      <th>Last</th>\n",
              "      <th>Close</th>\n",
              "      <th>Total Trade Quantity</th>\n",
              "      <th>Turnover (Lacs)</th>\n",
              "    </tr>\n",
              "  </thead>\n",
              "  <tbody>\n",
              "    <tr>\n",
              "      <th>0</th>\n",
              "      <td>2018-09-28</td>\n",
              "      <td>234.05</td>\n",
              "      <td>235.95</td>\n",
              "      <td>230.20</td>\n",
              "      <td>233.50</td>\n",
              "      <td>233.75</td>\n",
              "      <td>3069914</td>\n",
              "      <td>7162.35</td>\n",
              "    </tr>\n",
              "    <tr>\n",
              "      <th>1</th>\n",
              "      <td>2018-09-27</td>\n",
              "      <td>234.55</td>\n",
              "      <td>236.80</td>\n",
              "      <td>231.10</td>\n",
              "      <td>233.80</td>\n",
              "      <td>233.25</td>\n",
              "      <td>5082859</td>\n",
              "      <td>11859.95</td>\n",
              "    </tr>\n",
              "    <tr>\n",
              "      <th>2</th>\n",
              "      <td>2018-09-26</td>\n",
              "      <td>240.00</td>\n",
              "      <td>240.00</td>\n",
              "      <td>232.50</td>\n",
              "      <td>235.00</td>\n",
              "      <td>234.25</td>\n",
              "      <td>2240909</td>\n",
              "      <td>5248.60</td>\n",
              "    </tr>\n",
              "    <tr>\n",
              "      <th>3</th>\n",
              "      <td>2018-09-25</td>\n",
              "      <td>233.30</td>\n",
              "      <td>236.75</td>\n",
              "      <td>232.00</td>\n",
              "      <td>236.25</td>\n",
              "      <td>236.10</td>\n",
              "      <td>2349368</td>\n",
              "      <td>5503.90</td>\n",
              "    </tr>\n",
              "    <tr>\n",
              "      <th>4</th>\n",
              "      <td>2018-09-24</td>\n",
              "      <td>233.55</td>\n",
              "      <td>239.20</td>\n",
              "      <td>230.75</td>\n",
              "      <td>234.00</td>\n",
              "      <td>233.30</td>\n",
              "      <td>3423509</td>\n",
              "      <td>7999.55</td>\n",
              "    </tr>\n",
              "    <tr>\n",
              "      <th>...</th>\n",
              "      <td>...</td>\n",
              "      <td>...</td>\n",
              "      <td>...</td>\n",
              "      <td>...</td>\n",
              "      <td>...</td>\n",
              "      <td>...</td>\n",
              "      <td>...</td>\n",
              "      <td>...</td>\n",
              "    </tr>\n",
              "    <tr>\n",
              "      <th>2030</th>\n",
              "      <td>2010-07-27</td>\n",
              "      <td>117.60</td>\n",
              "      <td>119.50</td>\n",
              "      <td>112.00</td>\n",
              "      <td>118.80</td>\n",
              "      <td>118.65</td>\n",
              "      <td>586100</td>\n",
              "      <td>694.98</td>\n",
              "    </tr>\n",
              "    <tr>\n",
              "      <th>2031</th>\n",
              "      <td>2010-07-26</td>\n",
              "      <td>120.10</td>\n",
              "      <td>121.00</td>\n",
              "      <td>117.10</td>\n",
              "      <td>117.10</td>\n",
              "      <td>117.60</td>\n",
              "      <td>658440</td>\n",
              "      <td>780.01</td>\n",
              "    </tr>\n",
              "    <tr>\n",
              "      <th>2032</th>\n",
              "      <td>2010-07-23</td>\n",
              "      <td>121.80</td>\n",
              "      <td>121.95</td>\n",
              "      <td>120.25</td>\n",
              "      <td>120.35</td>\n",
              "      <td>120.65</td>\n",
              "      <td>281312</td>\n",
              "      <td>340.31</td>\n",
              "    </tr>\n",
              "    <tr>\n",
              "      <th>2033</th>\n",
              "      <td>2010-07-22</td>\n",
              "      <td>120.30</td>\n",
              "      <td>122.00</td>\n",
              "      <td>120.25</td>\n",
              "      <td>120.75</td>\n",
              "      <td>120.90</td>\n",
              "      <td>293312</td>\n",
              "      <td>355.17</td>\n",
              "    </tr>\n",
              "    <tr>\n",
              "      <th>2034</th>\n",
              "      <td>2010-07-21</td>\n",
              "      <td>122.10</td>\n",
              "      <td>123.00</td>\n",
              "      <td>121.05</td>\n",
              "      <td>121.10</td>\n",
              "      <td>121.55</td>\n",
              "      <td>658666</td>\n",
              "      <td>803.56</td>\n",
              "    </tr>\n",
              "  </tbody>\n",
              "</table>\n",
              "<p>2035 rows × 8 columns</p>\n",
              "</div>\n",
              "      <button class=\"colab-df-convert\" onclick=\"convertToInteractive('df-18e1bb4b-2d2c-4a1f-8695-38195aacc0ea')\"\n",
              "              title=\"Convert this dataframe to an interactive table.\"\n",
              "              style=\"display:none;\">\n",
              "        \n",
              "  <svg xmlns=\"http://www.w3.org/2000/svg\" height=\"24px\"viewBox=\"0 0 24 24\"\n",
              "       width=\"24px\">\n",
              "    <path d=\"M0 0h24v24H0V0z\" fill=\"none\"/>\n",
              "    <path d=\"M18.56 5.44l.94 2.06.94-2.06 2.06-.94-2.06-.94-.94-2.06-.94 2.06-2.06.94zm-11 1L8.5 8.5l.94-2.06 2.06-.94-2.06-.94L8.5 2.5l-.94 2.06-2.06.94zm10 10l.94 2.06.94-2.06 2.06-.94-2.06-.94-.94-2.06-.94 2.06-2.06.94z\"/><path d=\"M17.41 7.96l-1.37-1.37c-.4-.4-.92-.59-1.43-.59-.52 0-1.04.2-1.43.59L10.3 9.45l-7.72 7.72c-.78.78-.78 2.05 0 2.83L4 21.41c.39.39.9.59 1.41.59.51 0 1.02-.2 1.41-.59l7.78-7.78 2.81-2.81c.8-.78.8-2.07 0-2.86zM5.41 20L4 18.59l7.72-7.72 1.47 1.35L5.41 20z\"/>\n",
              "  </svg>\n",
              "      </button>\n",
              "      \n",
              "  <style>\n",
              "    .colab-df-container {\n",
              "      display:flex;\n",
              "      flex-wrap:wrap;\n",
              "      gap: 12px;\n",
              "    }\n",
              "\n",
              "    .colab-df-convert {\n",
              "      background-color: #E8F0FE;\n",
              "      border: none;\n",
              "      border-radius: 50%;\n",
              "      cursor: pointer;\n",
              "      display: none;\n",
              "      fill: #1967D2;\n",
              "      height: 32px;\n",
              "      padding: 0 0 0 0;\n",
              "      width: 32px;\n",
              "    }\n",
              "\n",
              "    .colab-df-convert:hover {\n",
              "      background-color: #E2EBFA;\n",
              "      box-shadow: 0px 1px 2px rgba(60, 64, 67, 0.3), 0px 1px 3px 1px rgba(60, 64, 67, 0.15);\n",
              "      fill: #174EA6;\n",
              "    }\n",
              "\n",
              "    [theme=dark] .colab-df-convert {\n",
              "      background-color: #3B4455;\n",
              "      fill: #D2E3FC;\n",
              "    }\n",
              "\n",
              "    [theme=dark] .colab-df-convert:hover {\n",
              "      background-color: #434B5C;\n",
              "      box-shadow: 0px 1px 3px 1px rgba(0, 0, 0, 0.15);\n",
              "      filter: drop-shadow(0px 1px 2px rgba(0, 0, 0, 0.3));\n",
              "      fill: #FFFFFF;\n",
              "    }\n",
              "  </style>\n",
              "\n",
              "      <script>\n",
              "        const buttonEl =\n",
              "          document.querySelector('#df-18e1bb4b-2d2c-4a1f-8695-38195aacc0ea button.colab-df-convert');\n",
              "        buttonEl.style.display =\n",
              "          google.colab.kernel.accessAllowed ? 'block' : 'none';\n",
              "\n",
              "        async function convertToInteractive(key) {\n",
              "          const element = document.querySelector('#df-18e1bb4b-2d2c-4a1f-8695-38195aacc0ea');\n",
              "          const dataTable =\n",
              "            await google.colab.kernel.invokeFunction('convertToInteractive',\n",
              "                                                     [key], {});\n",
              "          if (!dataTable) return;\n",
              "\n",
              "          const docLinkHtml = 'Like what you see? Visit the ' +\n",
              "            '<a target=\"_blank\" href=https://colab.research.google.com/notebooks/data_table.ipynb>data table notebook</a>'\n",
              "            + ' to learn more about interactive tables.';\n",
              "          element.innerHTML = '';\n",
              "          dataTable['output_type'] = 'display_data';\n",
              "          await google.colab.output.renderOutput(dataTable, element);\n",
              "          const docLink = document.createElement('div');\n",
              "          docLink.innerHTML = docLinkHtml;\n",
              "          element.appendChild(docLink);\n",
              "        }\n",
              "      </script>\n",
              "    </div>\n",
              "  </div>\n",
              "  "
            ]
          },
          "metadata": {},
          "execution_count": 5
        }
      ]
    },
    {
      "cell_type": "code",
      "source": [
        "df.info()"
      ],
      "metadata": {
        "colab": {
          "base_uri": "https://localhost:8080/",
          "height": 0
        },
        "id": "zK3d7mT3mN2Z",
        "outputId": "eb8a12cf-84c8-47a3-870f-a0cdaffaf424"
      },
      "execution_count": 6,
      "outputs": [
        {
          "output_type": "stream",
          "name": "stdout",
          "text": [
            "<class 'pandas.core.frame.DataFrame'>\n",
            "RangeIndex: 2035 entries, 0 to 2034\n",
            "Data columns (total 8 columns):\n",
            " #   Column                Non-Null Count  Dtype  \n",
            "---  ------                --------------  -----  \n",
            " 0   Date                  2035 non-null   object \n",
            " 1   Open                  2035 non-null   float64\n",
            " 2   High                  2035 non-null   float64\n",
            " 3   Low                   2035 non-null   float64\n",
            " 4   Last                  2035 non-null   float64\n",
            " 5   Close                 2035 non-null   float64\n",
            " 6   Total Trade Quantity  2035 non-null   int64  \n",
            " 7   Turnover (Lacs)       2035 non-null   float64\n",
            "dtypes: float64(6), int64(1), object(1)\n",
            "memory usage: 127.3+ KB\n"
          ]
        }
      ]
    },
    {
      "cell_type": "code",
      "source": [
        "df1=df.reset_index()['Close']\n",
        "df1"
      ],
      "metadata": {
        "colab": {
          "base_uri": "https://localhost:8080/",
          "height": 0
        },
        "id": "ZCebEEy3mXSA",
        "outputId": "c719afec-80fe-45ec-81c4-c21fb6a4fd68"
      },
      "execution_count": 7,
      "outputs": [
        {
          "output_type": "execute_result",
          "data": {
            "text/plain": [
              "0       233.75\n",
              "1       233.25\n",
              "2       234.25\n",
              "3       236.10\n",
              "4       233.30\n",
              "         ...  \n",
              "2030    118.65\n",
              "2031    117.60\n",
              "2032    120.65\n",
              "2033    120.90\n",
              "2034    121.55\n",
              "Name: Close, Length: 2035, dtype: float64"
            ]
          },
          "metadata": {},
          "execution_count": 7
        }
      ]
    },
    {
      "cell_type": "code",
      "source": [
        "df1.shape"
      ],
      "metadata": {
        "colab": {
          "base_uri": "https://localhost:8080/",
          "height": 0
        },
        "id": "ciVLez5DmXUP",
        "outputId": "a951a1b7-0b7f-4f85-9ddb-fd8bb6dd1335"
      },
      "execution_count": 8,
      "outputs": [
        {
          "output_type": "execute_result",
          "data": {
            "text/plain": [
              "(2035,)"
            ]
          },
          "metadata": {},
          "execution_count": 8
        }
      ]
    },
    {
      "cell_type": "code",
      "source": [
        "plt.figure(figsize = (9,6))\n",
        "plt.title('Tata Stocks Closing Price')\n",
        "plt.plot(df['Close'],'g')\n",
        "plt.xlabel('Date',fontsize=15)\n",
        "plt.ylabel('Close',fontsize=15)"
      ],
      "metadata": {
        "colab": {
          "base_uri": "https://localhost:8080/",
          "height": 426
        },
        "id": "51frBrT5mc44",
        "outputId": "ea8af7e4-89d5-438d-bfb5-39448f076bb3"
      },
      "execution_count": 10,
      "outputs": [
        {
          "output_type": "execute_result",
          "data": {
            "text/plain": [
              "Text(0, 0.5, 'Close')"
            ]
          },
          "metadata": {},
          "execution_count": 10
        },
        {
          "output_type": "display_data",
          "data": {
            "text/plain": [
              "<Figure size 648x432 with 1 Axes>"
            ],
            "image/png": "[encoded data removed]"
          },
          "metadata": {
            "needs_background": "light"
          }
        }
      ]
    },
    {
      "cell_type": "code",
      "source": [
        "dcorr = df.corr()\n",
        "top_corr_features = dcorr.index\n",
        "plt.figure(figsize=(10,7))\n",
        "sns.heatmap(df[top_corr_features].corr(), annot=True, cmap=\"YlGnBu\")"
      ],
      "metadata": {
        "colab": {
          "base_uri": "https://localhost:8080/",
          "height": 539
        },
        "id": "kTL-Tdhjmc7Z",
        "outputId": "596fad25-d238-46ad-b48a-5910ddec7257"
      },
      "execution_count": 11,
      "outputs": [
        {
          "output_type": "execute_result",
          "data": {
            "text/plain": [
              "<matplotlib.axes._subplots.AxesSubplot at 0x7fe108c8b390>"
            ]
          },
          "metadata": {},
          "execution_count": 11
        },
        {
          "output_type": "display_data",
          "data": {
            "text/plain": [
              "<Figure size 720x504 with 2 Axes>"
            ],
            "image/png": "[encoded data removed]"
          },
          "metadata": {
            "needs_background": "light"
          }
        }
      ]
    },
    {
      "cell_type": "code",
      "source": [
        "scaler = MinMaxScaler(feature_range=(0,1))   # to scale down everything b/w 0 n 1\n",
        "df1 = scaler.fit_transform(np.array(df1).reshape(-1,1))\n",
        "df1"
      ],
      "metadata": {
        "colab": {
          "base_uri": "https://localhost:8080/",
          "height": 0
        },
        "id": "FU4qHnnXmdBQ",
        "outputId": "30bcdecc-c8da-4c61-8c1f-5ff87c6160cc"
      },
      "execution_count": 12,
      "outputs": [
        {
          "output_type": "execute_result",
          "data": {
            "text/plain": [
              "array([[0.62418301],\n",
              "       [0.62214052],\n",
              "       [0.62622549],\n",
              "       ...,\n",
              "       [0.1621732 ],\n",
              "       [0.16319444],\n",
              "       [0.16584967]])"
            ]
          },
          "metadata": {},
          "execution_count": 12
        }
      ]
    },
    {
      "cell_type": "code",
      "source": [
        "#------------------PREPROCESSING : TEST-TRAIN SPLIT ---------------------\n",
        "\n",
        "train_size = int(len(df1)*0.7)      # taking 70 % data as training data \n",
        "test_size = len(df1)-train_size     # rest 30 % as testing data\n",
        "\n",
        "train_data = df1[0:train_size,:]\n",
        "test_data = df1[train_size:len(df1),:]"
      ],
      "metadata": {
        "id": "52xt5rJsmuGp"
      },
      "execution_count": 13,
      "outputs": []
    },
    {
      "cell_type": "code",
      "source": [
        "train_data.shape"
      ],
      "metadata": {
        "colab": {
          "base_uri": "https://localhost:8080/",
          "height": 0
        },
        "id": "anOnMIG0muKh",
        "outputId": "cf66872d-3b85-4e49-d2f1-cd0a66b38226"
      },
      "execution_count": 14,
      "outputs": [
        {
          "output_type": "execute_result",
          "data": {
            "text/plain": [
              "(1424, 1)"
            ]
          },
          "metadata": {},
          "execution_count": 14
        }
      ]
    },
    {
      "cell_type": "code",
      "source": [
        "test_data.shape"
      ],
      "metadata": {
        "colab": {
          "base_uri": "https://localhost:8080/",
          "height": 0
        },
        "id": "hRLXp8oZmuMj",
        "outputId": "71fffa53-47c1-4600-852f-f001eda9bbb8"
      },
      "execution_count": 15,
      "outputs": [
        {
          "output_type": "execute_result",
          "data": {
            "text/plain": [
              "(611, 1)"
            ]
          },
          "metadata": {},
          "execution_count": 15
        }
      ]
    },
    {
      "cell_type": "code",
      "source": [
        "# making timesteps to predict the future data ... based on prev days data. \n",
        "\n",
        "def select_data(dataset, time_step=1):\n",
        "    dataX, dataY = [], []\n",
        "    for i in range(len(dataset)-time_step-1):\n",
        "        dataX.append(dataset[i:(i+time_step), 0])\n",
        "        dataY.append(dataset[i + time_step, 0])\n",
        "    return np.array(dataX), np.array(dataY)"
      ],
      "metadata": {
        "id": "3l5F9lVBmuO6"
      },
      "execution_count": 16,
      "outputs": []
    },
    {
      "cell_type": "code",
      "source": [
        "timestep = 200\n",
        "\n",
        "X_train, y_train = select_data(train_data, timestep)\n",
        "X_test, y_test = select_data(test_data, timestep)"
      ],
      "metadata": {
        "id": "Q7El_R7Pm2rR"
      },
      "execution_count": 17,
      "outputs": []
    },
    {
      "cell_type": "code",
      "source": [
        "X_train, y_train"
      ],
      "metadata": {
        "colab": {
          "base_uri": "https://localhost:8080/",
          "height": 0
        },
        "id": "S6cSkwPUm2to",
        "outputId": "3f90e5fb-8451-40b2-9f72-8b6e632843b2"
      },
      "execution_count": 18,
      "outputs": [
        {
          "output_type": "execute_result",
          "data": {
            "text/plain": [
              "(array([[0.62418301, 0.62214052, 0.62622549, ..., 0.84497549, 0.8880719 ,\n",
              "         0.84763072],\n",
              "        [0.62214052, 0.62622549, 0.63378268, ..., 0.8880719 , 0.84763072,\n",
              "         0.82945261],\n",
              "        [0.62622549, 0.63378268, 0.62234477, ..., 0.84763072, 0.82945261,\n",
              "         0.79248366],\n",
              "        ...,\n",
              "        [0.33047386, 0.32128268, 0.34007353, ..., 0.33415033, 0.33986928,\n",
              "         0.34681373],\n",
              "        [0.32128268, 0.34007353, 0.3310866 , ..., 0.33986928, 0.34681373,\n",
              "         0.3500817 ],\n",
              "        [0.34007353, 0.3310866 , 0.31495098, ..., 0.34681373, 0.3500817 ,\n",
              "         0.32618464]]),\n",
              " array([0.82945261, 0.79248366, 0.8129085 , ..., 0.3500817 , 0.32618464,\n",
              "        0.32271242]))"
            ]
          },
          "metadata": {},
          "execution_count": 18
        }
      ]
    },
    {
      "cell_type": "code",
      "source": [
        "X_test, y_test"
      ],
      "metadata": {
        "colab": {
          "base_uri": "https://localhost:8080/",
          "height": 0
        },
        "id": "2PhenpaKm2vw",
        "outputId": "ae99bb25-52aa-48dc-bdcd-e8b7f23c4705"
      },
      "execution_count": 19,
      "outputs": [
        {
          "output_type": "execute_result",
          "data": {
            "text/plain": [
              "(array([[0.32148693, 0.32352941, 0.3255719 , ..., 0.16115196, 0.15175654,\n",
              "         0.14644608],\n",
              "        [0.32352941, 0.3255719 , 0.32638889, ..., 0.15175654, 0.14644608,\n",
              "         0.15216503],\n",
              "        [0.3255719 , 0.32638889, 0.33496732, ..., 0.14644608, 0.15216503,\n",
              "         0.1435866 ],\n",
              "        ...,\n",
              "        [0.06944444, 0.08088235, 0.07700163, ..., 0.14562908, 0.15236928,\n",
              "         0.15400327],\n",
              "        [0.08088235, 0.07700163, 0.0684232 , ..., 0.15236928, 0.15400327,\n",
              "         0.14971405],\n",
              "        [0.07700163, 0.0684232 , 0.06781046, ..., 0.15400327, 0.14971405,\n",
              "         0.1621732 ]]),\n",
              " array([0.15216503, 0.1435866 , 0.13419118, 0.1431781 , 0.16115196,\n",
              "        0.16176471, 0.17320261, 0.18218954, 0.16237745, 0.13112745,\n",
              "        0.15931373, 0.15951797, 0.14808007, 0.16278595, 0.15625   ,\n",
              "        0.16319444, 0.16360294, 0.16278595, 0.16544118, 0.15522876,\n",
              "        0.17197712, 0.1503268 , 0.13255719, 0.14338235, 0.15849673,\n",
              "        0.1186683 , 0.11519608, 0.10947712, 0.0692402 , 0.06597222,\n",
              "        0.05841503, 0.05044935, 0.04534314, 0.04779412, 0.05290033,\n",
              "        0.04922386, 0.06638072, 0.07169118, 0.05392157, 0.04881536,\n",
              "        0.04881536, 0.05310458, 0.04963235, 0.05065359, 0.05126634,\n",
              "        0.04963235, 0.05902778, 0.05555556, 0.04084967, 0.03737745,\n",
              "        0.03737745, 0.02655229, 0.02879902, 0.0316585 , 0.0316585 ,\n",
              "        0.03635621, 0.02205882, 0.01674837, 0.01450163, 0.02226307,\n",
              "        0.03615196, 0.02675654, 0.03206699, 0.02696078, 0.03574346,\n",
              "        0.03594771, 0.04044118, 0.03921569, 0.04411765, 0.02982026,\n",
              "        0.0122549 , 0.01286765, 0.01143791, 0.00245098, 0.0059232 ,\n",
              "        0.        , 0.00714869, 0.00428922, 0.0067402 , 0.0063317 ,\n",
              "        0.01123366, 0.01960784, 0.02757353, 0.03002451, 0.03349673,\n",
              "        0.04003268, 0.04084967, 0.03982843, 0.04166667, 0.04370915,\n",
              "        0.04758987, 0.03594771, 0.02839052, 0.02410131, 0.01715686,\n",
              "        0.01531863, 0.01756536, 0.02696078, 0.02696078, 0.03819444,\n",
              "        0.02839052, 0.02369281, 0.02920752, 0.02328431, 0.01919935,\n",
              "        0.00653595, 0.00061275, 0.00796569, 0.01245915, 0.01981209,\n",
              "        0.01940359, 0.02246732, 0.03125   , 0.02348856, 0.0249183 ,\n",
              "        0.02144608, 0.04840686, 0.04575163, 0.03962418, 0.03921569,\n",
              "        0.04758987, 0.04513889, 0.04166667, 0.04125817, 0.05044935,\n",
              "        0.05555556, 0.05494281, 0.05412582, 0.0435049 , 0.04799837,\n",
              "        0.05147059, 0.05065359, 0.03431373, 0.04575163, 0.04187092,\n",
              "        0.04554739, 0.03941993, 0.02716503, 0.03125   , 0.05882353,\n",
              "        0.07148693, 0.08721405, 0.08986928, 0.10498366, 0.08905229,\n",
              "        0.10355392, 0.10375817, 0.12275327, 0.10906863, 0.09660948,\n",
              "        0.1064134 , 0.10457516, 0.11049837, 0.1127451 , 0.09803922,\n",
              "        0.09987745, 0.08925654, 0.0747549 , 0.08169935, 0.08925654,\n",
              "        0.09068627, 0.08129085, 0.08823529, 0.08455882, 0.07945261,\n",
              "        0.08374183, 0.07781863, 0.09824346, 0.09089052, 0.09007353,\n",
              "        0.09558824, 0.06862745, 0.06372549, 0.0494281 , 0.04799837,\n",
              "        0.04534314, 0.0443219 , 0.03941993, 0.0379902 , 0.04656863,\n",
              "        0.05085784, 0.07209967, 0.06535948, 0.07230392, 0.07802288,\n",
              "        0.07741013, 0.06086601, 0.06413399, 0.07046569, 0.05412582,\n",
              "        0.0498366 , 0.05167484, 0.05330882, 0.0435049 , 0.02634804,\n",
              "        0.02410131, 0.02961601, 0.01960784, 0.02961601, 0.04575163,\n",
              "        0.05923203, 0.06678922, 0.06229575, 0.06311275, 0.0629085 ,\n",
              "        0.06658497, 0.07434641, 0.06944444, 0.08088235, 0.07700163,\n",
              "        0.0684232 , 0.06781046, 0.0629085 , 0.0692402 , 0.0755719 ,\n",
              "        0.07781863, 0.08088235, 0.08843954, 0.09395425, 0.09599673,\n",
              "        0.08660131, 0.09027778, 0.08517157, 0.08374183, 0.07945261,\n",
              "        0.09109477, 0.09129902, 0.08803105, 0.09681373, 0.11417484,\n",
              "        0.10498366, 0.09987745, 0.08537582, 0.08047386, 0.06862745,\n",
              "        0.06576797, 0.06147876, 0.07169118, 0.07026144, 0.0747549 ,\n",
              "        0.06821895, 0.0692402 , 0.07066993, 0.06801471, 0.06678922,\n",
              "        0.07414216, 0.07169118, 0.08639706, 0.08312908, 0.06311275,\n",
              "        0.0629085 , 0.05167484, 0.03186275, 0.04003268, 0.03860294,\n",
              "        0.04105392, 0.03390523, 0.03125   , 0.02634804, 0.05861928,\n",
              "        0.06311275, 0.0620915 , 0.05535131, 0.08455882, 0.05514706,\n",
              "        0.06045752, 0.0557598 , 0.0439134 , 0.02920752, 0.02818627,\n",
              "        0.04718137, 0.06045752, 0.05861928, 0.06168301, 0.06699346,\n",
              "        0.07087418, 0.0755719 , 0.07700163, 0.10375817, 0.10314542,\n",
              "        0.10334967, 0.10089869, 0.10437092, 0.09803922, 0.09722222,\n",
              "        0.09783497, 0.09579248, 0.09109477, 0.09313725, 0.08558007,\n",
              "        0.09517974, 0.11172386, 0.12275327, 0.12806373, 0.1313317 ,\n",
              "        0.12479575, 0.11090686, 0.10743464, 0.11621732, 0.11683007,\n",
              "        0.11764706, 0.12888072, 0.12847222, 0.13337418, 0.14236111,\n",
              "        0.14093137, 0.13970588, 0.13827614, 0.13541667, 0.13010621,\n",
              "        0.12254902, 0.12479575, 0.13848039, 0.14011438, 0.13888889,\n",
              "        0.13541667, 0.14011438, 0.1380719 , 0.13071895, 0.13071895,\n",
              "        0.12867647, 0.11846405, 0.14644608, 0.14808007, 0.15910948,\n",
              "        0.15992647, 0.15788399, 0.16441993, 0.17892157, 0.17933007,\n",
              "        0.19260621, 0.20812908, 0.18974673, 0.18055556, 0.18239379,\n",
              "        0.17708333, 0.17810458, 0.18055556, 0.17810458, 0.17851307,\n",
              "        0.19607843, 0.18913399, 0.18954248, 0.19403595, 0.19444444,\n",
              "        0.20200163, 0.19771242, 0.19934641, 0.19873366, 0.1997549 ,\n",
              "        0.2128268 , 0.21568627, 0.20445261, 0.21772876, 0.21098856,\n",
              "        0.21425654, 0.19750817, 0.18811275, 0.17851307, 0.17381536,\n",
              "        0.16033497, 0.16564542, 0.17116013, 0.17422386, 0.18035131,\n",
              "        0.17401961, 0.16278595, 0.16973039, 0.17810458, 0.17034314,\n",
              "        0.16830065, 0.17279412, 0.17544935, 0.18382353, 0.19138072,\n",
              "        0.18913399, 0.19097222, 0.17238562, 0.16830065, 0.1693219 ,\n",
              "        0.17177288, 0.16156046, 0.14971405, 0.1503268 , 0.15196078,\n",
              "        0.14726307, 0.14501634, 0.14603758, 0.12479575, 0.13112745,\n",
              "        0.11397059, 0.1190768 , 0.12377451, 0.13562092, 0.12908497,\n",
              "        0.13459967, 0.12806373, 0.13031046, 0.12724673, 0.13521242,\n",
              "        0.14522059, 0.15257353, 0.14848856, 0.14338235, 0.14562908,\n",
              "        0.15236928, 0.15400327, 0.14971405, 0.1621732 , 0.16319444]))"
            ]
          },
          "metadata": {},
          "execution_count": 19
        }
      ]
    },
    {
      "cell_type": "code",
      "source": [
        "#reshaping req for lstm \n",
        "X_train = X_train.reshape(X_train.shape[0],X_train.shape[1] , 1)\n",
        "X_test = X_test.reshape(X_test.shape[0],X_test.shape[1] , 1)"
      ],
      "metadata": {
        "id": "UyEwvXgEm7T5"
      },
      "execution_count": 20,
      "outputs": []
    },
    {
      "cell_type": "code",
      "source": [
        "model=Sequential()\n",
        "model.add(LSTM(50,return_sequences=True,input_shape=(timestep,1)))\n",
        "model.add(Dropout(0.2))\n",
        "\n",
        "model.add(LSTM(50,return_sequences=True))\n",
        "model.add(Dropout(0.2))\n",
        "\n",
        "model.add(LSTM(50))\n",
        "model.add(Dropout(0.2))\n",
        "\n",
        "model.add(Dense(1))\n",
        "model.compile(loss='mean_squared_error',optimizer='adam')\n",
        "model.summary()\n",
        "model.fit(X_train, y_train, validation_data = (X_test, y_test),epochs = 50,batch_size = 32, verbose=1)"
      ],
      "metadata": {
        "colab": {
          "base_uri": "https://localhost:8080/",
          "height": 0
        },
        "id": "4IDntF5zm7WZ",
        "outputId": "f7479011-acb3-4d55-96df-8ff2e376c451"
      },
      "execution_count": 21,
      "outputs": [
        {
          "output_type": "stream",
          "name": "stdout",
          "text": [
            "39/39 [==============================] - 12s 309ms/step - loss: 9.2369e-04 - val_loss: 8.8533e-04\n",
            "Epoch 30/50\n",
            "39/39 [==============================] - 17s 439ms/step - loss: 8.4135e-04 - val_loss: 8.6244e-04\n",
            "Epoch 31/50\n",
            "39/39 [==============================] - 12s 297ms/step - loss: 8.8846e-04 - val_loss: 4.2216e-04\n",
            "Epoch 32/50\n",
            "39/39 [==============================] - 12s 305ms/step - loss: 0.0010 - val_loss: 3.4209e-04\n",
            "Epoch 33/50\n",
            "39/39 [==============================] - 12s 308ms/step - loss: 8.9181e-04 - val_loss: 4.0595e-04\n",
            "Epoch 34/50\n",
            "39/39 [==============================] - 12s 305ms/step - loss: 8.8293e-04 - val_loss: 9.0572e-04\n",
            "Epoch 35/50\n",
            "39/39 [==============================] - 12s 301ms/step - loss: 7.7839e-04 - val_loss: 4.4134e-04\n",
            "Epoch 36/50\n",
            "39/39 [==============================] - 12s 307ms/step - loss: 7.6382e-04 - val_loss: 4.8540e-04\n",
            "Epoch 37/50\n",
            "39/39 [==============================] - 12s 306ms/step - loss: 7.6135e-04 - val_loss: 3.4716e-04\n",
            "Epoch 38/50\n",
            "39/39 [==============================] - 13s 325ms/step - loss: 6.0262e-04 - val_loss: 3.4409e-04\n",
            "Epoch 39/50\n",
            "39/39 [==============================] - 12s 307ms/step - loss: 6.2021e-04 - val_loss: 7.7936e-04\n",
            "Epoch 40/50\n",
            "39/39 [==============================] - 12s 304ms/step - loss: 7.4922e-04 - val_loss: 2.8291e-04\n",
            "Epoch 41/50\n",
            "39/39 [==============================] - 13s 334ms/step - loss: 7.0662e-04 - val_loss: 6.0132e-04\n",
            "Epoch 42/50\n",
            "39/39 [==============================] - 12s 302ms/step - loss: 7.4322e-04 - val_loss: 3.3715e-04\n",
            "Epoch 43/50\n",
            "39/39 [==============================] - 12s 299ms/step - loss: 7.5082e-04 - val_loss: 5.6436e-04\n",
            "Epoch 44/50\n",
            "39/39 [==============================] - 12s 297ms/step - loss: 6.3958e-04 - val_loss: 3.5667e-04\n",
            "Epoch 45/50\n",
            "39/39 [==============================] - 12s 295ms/step - loss: 5.8966e-04 - val_loss: 6.1577e-04\n",
            "Epoch 46/50\n",
            "39/39 [==============================] - 11s 290ms/step - loss: 5.9432e-04 - val_loss: 3.0128e-04\n",
            "Epoch 47/50\n",
            "39/39 [==============================] - 11s 294ms/step - loss: 5.8859e-04 - val_loss: 3.0039e-04\n",
            "Epoch 48/50\n",
            "39/39 [==============================] - 12s 296ms/step - loss: 5.9667e-04 - val_loss: 3.5024e-04\n",
            "Epoch 49/50\n",
            "39/39 [==============================] - 12s 300ms/step - loss: 5.8865e-04 - val_loss: 3.4209e-04\n",
            "Epoch 50/50\n",
            "39/39 [==============================] - 12s 301ms/step - loss: 6.8499e-04 - val_loss: 2.3013e-04\n"
          ]
        },
        {
          "output_type": "execute_result",
          "data": {
            "text/plain": [
              "<keras.callbacks.History at 0x7fe102606710>"
            ]
          },
          "metadata": {},
          "execution_count": 21
        }
      ]
    },
    {
      "cell_type": "code",
      "source": [
        "#------------DOING PREDICTIONS --------------\n",
        "\n",
        "train_predict=model.predict(X_train)       # output for train dataset\n",
        "test_predict=model.predict(X_test)        # output for test dataset\n",
        "\n",
        "#----------------- BACK TO ORIGINAL DATA ------------------\n",
        "train_predict=scaler.inverse_transform(train_predict)\n",
        "test_predict=scaler.inverse_transform(test_predict)"
      ],
      "metadata": {
        "id": "VX4fNuDqm7Yu"
      },
      "execution_count": 22,
      "outputs": []
    },
    {
      "cell_type": "code",
      "source": [
        "train_predict"
      ],
      "metadata": {
        "colab": {
          "base_uri": "https://localhost:8080/",
          "height": 0
        },
        "id": "dbdnwcVZm7bL",
        "outputId": "b3382de3-3c4d-4b9f-c73a-651539ab936a"
      },
      "execution_count": 23,
      "outputs": [
        {
          "output_type": "execute_result",
          "data": {
            "text/plain": [
              "array([[283.20413],\n",
              "       [283.1292 ],\n",
              "       [280.1208 ],\n",
              "       ...,\n",
              "       [160.01572],\n",
              "       [160.84784],\n",
              "       [160.80977]], dtype=float32)"
            ]
          },
          "metadata": {},
          "execution_count": 23
        }
      ]
    },
    {
      "cell_type": "code",
      "source": [
        "test_predict"
      ],
      "metadata": {
        "colab": {
          "base_uri": "https://localhost:8080/",
          "height": 0
        },
        "id": "qBtZBwZ2nIQ5",
        "outputId": "750d5ea8-039a-4f6c-cdf1-ec1ea5325009"
      },
      "execution_count": 24,
      "outputs": [
        {
          "output_type": "execute_result",
          "data": {
            "text/plain": [
              "array([[116.51671 ],\n",
              "       [117.19786 ],\n",
              "       [117.26524 ],\n",
              "       [116.57757 ],\n",
              "       [115.699265],\n",
              "       [115.48065 ],\n",
              "       [115.96228 ],\n",
              "       [117.18668 ],\n",
              "       [119.02443 ],\n",
              "       [120.39456 ],\n",
              "       [120.0634  ],\n",
              "       [119.19038 ],\n",
              "       [118.39513 ],\n",
              "       [117.56862 ],\n",
              "       [117.22766 ],\n",
              "       [117.19431 ],\n",
              "       [117.52759 ],\n",
              "       [118.09468 ],\n",
              "       [118.68951 ],\n",
              "       [119.25798 ],\n",
              "       [119.422   ],\n",
              "       [119.70438 ],\n",
              "       [119.52137 ],\n",
              "       [118.37304 ],\n",
              "       [116.9302  ],\n",
              "       [116.104454],\n",
              "       [114.85861 ],\n",
              "       [113.11266 ],\n",
              "       [111.08291 ],\n",
              "       [108.042496],\n",
              "       [104.42838 ],\n",
              "       [100.79704 ],\n",
              "       [ 97.53127 ],\n",
              "       [ 94.871826],\n",
              "       [ 93.07775 ],\n",
              "       [ 92.30617 ],\n",
              "       [ 92.27776 ],\n",
              "       [ 93.155716],\n",
              "       [ 94.75795 ],\n",
              "       [ 96.11839 ],\n",
              "       [ 96.73132 ],\n",
              "       [ 96.62916 ],\n",
              "       [ 96.180756],\n",
              "       [ 95.54689 ],\n",
              "       [ 94.9123  ],\n",
              "       [ 94.40079 ],\n",
              "       [ 94.004944],\n",
              "       [ 93.97428 ],\n",
              "       [ 94.16324 ],\n",
              "       [ 94.02233 ],\n",
              "       [ 93.418205],\n",
              "       [ 92.53944 ],\n",
              "       [ 91.34164 ],\n",
              "       [ 90.11048 ],\n",
              "       [ 89.16043 ],\n",
              "       [ 88.60104 ],\n",
              "       [ 88.52808 ],\n",
              "       [ 88.44057 ],\n",
              "       [ 88.064255],\n",
              "       [ 87.40693 ],\n",
              "       [ 86.85231 ],\n",
              "       [ 86.92112 ],\n",
              "       [ 87.3074  ],\n",
              "       [ 87.90545 ],\n",
              "       [ 88.41369 ],\n",
              "       [ 88.949066],\n",
              "       [ 89.48513 ],\n",
              "       [ 90.06764 ],\n",
              "       [ 90.58938 ],\n",
              "       [ 91.10309 ],\n",
              "       [ 91.173836],\n",
              "       [ 90.32786 ],\n",
              "       [ 88.83874 ],\n",
              "       [ 87.131714],\n",
              "       [ 85.35396 ],\n",
              "       [ 83.85679 ],\n",
              "       [ 82.67064 ],\n",
              "       [ 82.02652 ],\n",
              "       [ 81.829895],\n",
              "       [ 82.00288 ],\n",
              "       [ 82.38684 ],\n",
              "       [ 82.9631  ],\n",
              "       [ 83.83212 ],\n",
              "       [ 85.05049 ],\n",
              "       [ 86.44973 ],\n",
              "       [ 87.84884 ],\n",
              "       [ 89.204765],\n",
              "       [ 90.377686],\n",
              "       [ 91.209854],\n",
              "       [ 91.70703 ],\n",
              "       [ 91.96667 ],\n",
              "       [ 92.15769 ],\n",
              "       [ 92.00023 ],\n",
              "       [ 91.32724 ],\n",
              "       [ 90.21848 ],\n",
              "       [ 88.78166 ],\n",
              "       [ 87.27041 ],\n",
              "       [ 86.01836 ],\n",
              "       [ 85.43754 ],\n",
              "       [ 85.50894 ],\n",
              "       [ 86.31576 ],\n",
              "       [ 87.30442 ],\n",
              "       [ 88.017456],\n",
              "       [ 88.48965 ],\n",
              "       [ 88.60893 ],\n",
              "       [ 88.33307 ],\n",
              "       [ 87.47078 ],\n",
              "       [ 86.09291 ],\n",
              "       [ 84.7357  ],\n",
              "       [ 83.823006],\n",
              "       [ 83.63009 ],\n",
              "       [ 84.01781 ],\n",
              "       [ 84.79467 ],\n",
              "       [ 85.93183 ],\n",
              "       [ 86.97507 ],\n",
              "       [ 87.7376  ],\n",
              "       [ 88.07982 ],\n",
              "       [ 88.781746],\n",
              "       [ 89.8086  ],\n",
              "       [ 90.737946],\n",
              "       [ 91.34651 ],\n",
              "       [ 91.82775 ],\n",
              "       [ 92.15409 ],\n",
              "       [ 92.224846],\n",
              "       [ 92.06765 ],\n",
              "       [ 92.029854],\n",
              "       [ 92.31613 ],\n",
              "       [ 92.824715],\n",
              "       [ 93.367256],\n",
              "       [ 93.52443 ],\n",
              "       [ 93.40808 ],\n",
              "       [ 93.25756 ],\n",
              "       [ 93.15031 ],\n",
              "       [ 92.65986 ],\n",
              "       [ 92.15421 ],\n",
              "       [ 91.70963 ],\n",
              "       [ 91.478714],\n",
              "       [ 91.3005  ],\n",
              "       [ 90.80127 ],\n",
              "       [ 90.14988 ],\n",
              "       [ 90.278435],\n",
              "       [ 91.55224 ],\n",
              "       [ 93.990005],\n",
              "       [ 97.002266],\n",
              "       [100.292435],\n",
              "       [102.83164 ],\n",
              "       [104.67315 ],\n",
              "       [105.84426 ],\n",
              "       [106.961876],\n",
              "       [107.66251 ],\n",
              "       [107.51326 ],\n",
              "       [106.967155],\n",
              "       [106.29119 ],\n",
              "       [105.84523 ],\n",
              "       [105.76731 ],\n",
              "       [105.56076 ],\n",
              "       [105.21426 ],\n",
              "       [104.528564],\n",
              "       [103.250015],\n",
              "       [101.87088 ],\n",
              "       [100.95689 ],\n",
              "       [100.67231 ],\n",
              "       [100.63122 ],\n",
              "       [100.85221 ],\n",
              "       [101.14025 ],\n",
              "       [101.24896 ],\n",
              "       [101.2841  ],\n",
              "       [101.1368  ],\n",
              "       [101.42832 ],\n",
              "       [101.94919 ],\n",
              "       [102.466446],\n",
              "       [103.00626 ],\n",
              "       [102.740425],\n",
              "       [101.595695],\n",
              "       [ 99.59217 ],\n",
              "       [ 97.21803 ],\n",
              "       [ 94.93938 ],\n",
              "       [ 93.09194 ],\n",
              "       [ 91.712906],\n",
              "       [ 90.785446],\n",
              "       [ 90.508514],\n",
              "       [ 90.89402 ],\n",
              "       [ 92.27878 ],\n",
              "       [ 94.10359 ],\n",
              "       [ 96.03578 ],\n",
              "       [ 97.88072 ],\n",
              "       [ 99.37246 ],\n",
              "       [ 99.90056 ],\n",
              "       [ 99.62581 ],\n",
              "       [ 99.060196],\n",
              "       [ 98.04291 ],\n",
              "       [ 96.65812 ],\n",
              "       [ 95.25556 ],\n",
              "       [ 94.14529 ],\n",
              "       [ 93.17954 ],\n",
              "       [ 91.91504 ],\n",
              "       [ 90.41548 ],\n",
              "       [ 89.11356 ],\n",
              "       [ 87.9669  ],\n",
              "       [ 87.315216],\n",
              "       [ 87.622185],\n",
              "       [ 89.05937 ],\n",
              "       [ 91.36004 ],\n",
              "       [ 93.77394 ],\n",
              "       [ 95.78257 ],\n",
              "       [ 97.12944 ],\n",
              "       [ 97.89813 ],\n",
              "       [ 98.4177  ],\n",
              "       [ 98.64839 ],\n",
              "       [ 98.94276 ],\n",
              "       [ 99.221504],\n",
              "       [ 99.1756  ],\n",
              "       [ 98.80335 ],\n",
              "       [ 98.11909 ],\n",
              "       [ 97.48498 ],\n",
              "       [ 97.24069 ],\n",
              "       [ 97.44674 ],\n",
              "       [ 98.03415 ],\n",
              "       [ 99.004814],\n",
              "       [100.28015 ],\n",
              "       [101.6467  ],\n",
              "       [102.58486 ],\n",
              "       [103.08288 ],\n",
              "       [103.08404 ],\n",
              "       [102.69462 ],\n",
              "       [101.997345],\n",
              "       [101.523895],\n",
              "       [101.41075 ],\n",
              "       [101.492096],\n",
              "       [101.89429 ],\n",
              "       [102.998604],\n",
              "       [104.28717 ],\n",
              "       [105.24569 ],\n",
              "       [105.3163  ],\n",
              "       [104.50141 ],\n",
              "       [102.871475],\n",
              "       [100.834496],\n",
              "       [ 98.76322 ],\n",
              "       [ 97.29858 ],\n",
              "       [ 96.559845],\n",
              "       [ 96.5559  ],\n",
              "       [ 96.87722 ],\n",
              "       [ 97.300156],\n",
              "       [ 97.73298 ],\n",
              "       [ 98.03254 ],\n",
              "       [ 98.137535],\n",
              "       [ 98.2889  ],\n",
              "       [ 98.45363 ],\n",
              "       [ 99.001175],\n",
              "       [ 99.75042 ],\n",
              "       [ 99.92036 ],\n",
              "       [ 99.449066],\n",
              "       [ 98.281685],\n",
              "       [ 96.22632 ],\n",
              "       [ 93.98074 ],\n",
              "       [ 92.03258 ],\n",
              "       [ 90.71125 ],\n",
              "       [ 89.868576],\n",
              "       [ 89.33445 ],\n",
              "       [ 88.90156 ],\n",
              "       [ 89.410675],\n",
              "       [ 90.894585],\n",
              "       [ 92.84251 ],\n",
              "       [ 94.53735 ],\n",
              "       [ 96.46667 ],\n",
              "       [ 97.65438 ],\n",
              "       [ 98.04921 ],\n",
              "       [ 97.72007 ],\n",
              "       [ 96.62497 ],\n",
              "       [ 94.717354],\n",
              "       [ 92.43461 ],\n",
              "       [ 90.795   ],\n",
              "       [ 90.43357 ],\n",
              "       [ 91.10857 ],\n",
              "       [ 92.414925],\n",
              "       [ 94.03379 ],\n",
              "       [ 95.702194],\n",
              "       [ 97.27166 ],\n",
              "       [ 98.5902  ],\n",
              "       [100.29129 ],\n",
              "       [102.20564 ],\n",
              "       [103.96637 ],\n",
              "       [105.22137 ],\n",
              "       [105.9759  ],\n",
              "       [106.11578 ],\n",
              "       [105.76264 ],\n",
              "       [105.16693 ],\n",
              "       [104.4857  ],\n",
              "       [103.734886],\n",
              "       [103.090164],\n",
              "       [102.435265],\n",
              "       [102.09742 ],\n",
              "       [102.58711 ],\n",
              "       [104.041725],\n",
              "       [106.160934],\n",
              "       [108.4773  ],\n",
              "       [110.321594],\n",
              "       [111.03882 ],\n",
              "       [110.647446],\n",
              "       [109.83159 ],\n",
              "       [109.03253 ],\n",
              "       [108.47318 ],\n",
              "       [108.517426],\n",
              "       [109.042114],\n",
              "       [109.927315],\n",
              "       [111.17645 ],\n",
              "       [112.47518 ],\n",
              "       [113.52425 ],\n",
              "       [114.15675 ],\n",
              "       [114.30777 ],\n",
              "       [113.948654],\n",
              "       [113.06797 ],\n",
              "       [112.01375 ],\n",
              "       [111.467865],\n",
              "       [111.55896 ],\n",
              "       [112.056564],\n",
              "       [112.59895 ],\n",
              "       [113.15061 ],\n",
              "       [113.57938 ],\n",
              "       [113.6269  ],\n",
              "       [113.351166],\n",
              "       [112.856346],\n",
              "       [112.00995 ],\n",
              "       [111.81453 ],\n",
              "       [112.39964 ],\n",
              "       [113.78171 ],\n",
              "       [115.54328 ],\n",
              "       [117.15545 ],\n",
              "       [118.51821 ],\n",
              "       [119.95293 ],\n",
              "       [121.341805],\n",
              "       [122.8801  ],\n",
              "       [124.831085],\n",
              "       [126.281296],\n",
              "       [126.68086 ],\n",
              "       [126.25608 ],\n",
              "       [125.244255],\n",
              "       [124.06897 ],\n",
              "       [123.11968 ],\n",
              "       [122.467735],\n",
              "       [122.13041 ],\n",
              "       [122.59107 ],\n",
              "       [123.44301 ],\n",
              "       [124.35606 ],\n",
              "       [125.255135],\n",
              "       [126.03204 ],\n",
              "       [126.838005],\n",
              "       [127.46561 ],\n",
              "       [127.88904 ],\n",
              "       [128.0958  ],\n",
              "       [128.15895 ],\n",
              "       [128.53862 ],\n",
              "       [129.2758  ],\n",
              "       [129.80232 ],\n",
              "       [130.38734 ],\n",
              "       [130.79176 ],\n",
              "       [131.06526 ],\n",
              "       [130.7103  ],\n",
              "       [129.58366 ],\n",
              "       [127.78315 ],\n",
              "       [125.67056 ],\n",
              "       [123.32317 ],\n",
              "       [121.3118  ],\n",
              "       [120.10257 ],\n",
              "       [119.80026 ],\n",
              "       [120.35706 ],\n",
              "       [121.21643 ],\n",
              "       [121.69006 ],\n",
              "       [121.89141 ],\n",
              "       [122.18027 ],\n",
              "       [122.3476  ],\n",
              "       [122.28852 ],\n",
              "       [122.18908 ],\n",
              "       [122.19635 ],\n",
              "       [122.553894],\n",
              "       [123.37783 ],\n",
              "       [124.350784],\n",
              "       [125.25769 ],\n",
              "       [125.37356 ],\n",
              "       [124.64542 ],\n",
              "       [123.479355],\n",
              "       [122.353714],\n",
              "       [121.211914],\n",
              "       [119.83483 ],\n",
              "       [118.44458 ],\n",
              "       [117.33832 ],\n",
              "       [116.50744 ],\n",
              "       [115.902756],\n",
              "       [115.551254],\n",
              "       [114.80541 ],\n",
              "       [113.91468 ],\n",
              "       [112.62186 ],\n",
              "       [111.307434],\n",
              "       [110.38679 ],\n",
              "       [110.2982  ],\n",
              "       [110.70177 ],\n",
              "       [111.444626],\n",
              "       [112.08932 ],\n",
              "       [112.53438 ],\n",
              "       [112.674965],\n",
              "       [112.79563 ],\n",
              "       [113.25132 ],\n",
              "       [114.17248 ],\n",
              "       [115.184654],\n",
              "       [115.86282 ],\n",
              "       [116.18021 ],\n",
              "       [116.40753 ],\n",
              "       [116.66005 ],\n",
              "       [116.79014 ],\n",
              "       [117.14592 ]], dtype=float32)"
            ]
          },
          "metadata": {},
          "execution_count": 24
        }
      ]
    },
    {
      "cell_type": "code",
      "source": [
        "math.sqrt(mean_squared_error(y_train,train_predict))"
      ],
      "metadata": {
        "colab": {
          "base_uri": "https://localhost:8080/",
          "height": 0
        },
        "id": "_sMFU-VZnIVg",
        "outputId": "dabda150-8d4c-41b0-ee0c-42147270bf30"
      },
      "execution_count": 25,
      "outputs": [
        {
          "output_type": "execute_result",
          "data": {
            "text/plain": [
              "148.0536357551124"
            ]
          },
          "metadata": {},
          "execution_count": 25
        }
      ]
    },
    {
      "cell_type": "code",
      "source": [
        "math.sqrt(mean_squared_error(y_test,test_predict))"
      ],
      "metadata": {
        "colab": {
          "base_uri": "https://localhost:8080/",
          "height": 0
        },
        "id": "ZDbDZm5CnIYD",
        "outputId": "bce766d8-ea1c-475f-a079-5933475e9501"
      },
      "execution_count": 26,
      "outputs": [
        {
          "output_type": "execute_result",
          "data": {
            "text/plain": [
              "103.899896550896"
            ]
          },
          "metadata": {},
          "execution_count": 26
        }
      ]
    },
    {
      "cell_type": "code",
      "source": [
        "t = timestep\n",
        "\n",
        "p1 = np.empty_like(df1)       #train-pred-plot\n",
        "p1[:,:] =np.nan\n",
        "p1[t : len(train_predict)+t , : ] =  train_predict"
      ],
      "metadata": {
        "id": "NgxvLDhunIcN"
      },
      "execution_count": 27,
      "outputs": []
    },
    {
      "cell_type": "code",
      "source": [
        "p2 = np.empty_like(df1)       #test-pred-plot\n",
        "p2[:,:] =np.nan\n",
        "p2[ len(train_predict)+ t*2 + 1 : len(df1) -1 , : ] =  test_predict"
      ],
      "metadata": {
        "id": "vkw0dgoonQt4"
      },
      "execution_count": 28,
      "outputs": []
    },
    {
      "cell_type": "code",
      "source": [
        "from matplotlib.pyplot import figure\n",
        "plt.plot(scaler.inverse_transform(df1) , color = 'red', label = 'Real Stock Price')\n",
        "plt.plot(p1 , color = 'blue', label = 'Predicted Stock Price 1 - training ')\n",
        "plt.plot(p2 , color = 'green', label = 'Predicted Stock Price 2 - testing ')\n",
        "\n",
        "plt.rcParams['figure.figsize'] = [15,7]\n",
        "plt.legend()\n",
        "plt.show()"
      ],
      "metadata": {
        "colab": {
          "base_uri": "https://localhost:8080/",
          "height": 265
        },
        "id": "uUMnGKg-nQwQ",
        "outputId": "1842dd71-3a49-45b4-fa90-4492cf9a5c78"
      },
      "execution_count": 29,
      "outputs": [
        {
          "output_type": "display_data",
          "data": {
            "text/plain": [
              "<Figure size 432x288 with 1 Axes>"
            ],
            "image/png": "[encoded data removed]"
          },
          "metadata": {
            "needs_background": "light"
          }
        }
      ]
    }
  ]
}