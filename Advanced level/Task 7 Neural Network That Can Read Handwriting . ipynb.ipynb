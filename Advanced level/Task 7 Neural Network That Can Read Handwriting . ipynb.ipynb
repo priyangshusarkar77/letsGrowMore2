{
 "cells": [
  {
   "cell_type": "markdown",
   "metadata": {
    "id": "xmdP8K2J8mvG"
   },
   "source": [
    "## **Data Science Intern - Lets Grow More**\n",
    "\n",
    "## **Author - Priyangshu Sarkar**\n",
    "\n",
    "##**Task 1 - Neural Network That Can Read Handwriting**"
   ]
  },
  {
   "cell_type": "markdown",
   "metadata": {
    "id": "xeqLTucGkRxa"
   },
   "source": [
    "### **Importing Libraries**"
   ]
  },
  {
   "cell_type": "code",
   "execution_count": 2,
   "metadata": {
    "id": "unGmv69G86-X"
   },
   "outputs": [],
   "source": [
    "import tensorflow as tf\n",
    "from tensorflow import keras\n",
    "from tensorflow.keras import Sequential\n",
    "from tensorflow.keras.utils import plot_model\n",
    "from tensorflow.keras.layers import *\n",
    "import matplotlib.pyplot as plt\n",
    "import numpy as np\n",
    "import seaborn as sns\n",
    "from keras.datasets import mnist\n",
    "import random\n",
    "from numpy import argmax"
   ]
  },
  {
   "cell_type": "markdown",
   "metadata": {
    "id": "Tt92PvpOkOIM"
   },
   "source": [
    "### **Loading dataset**"
   ]
  },
  {
   "cell_type": "code",
   "execution_count": 3,
   "metadata": {
    "id": "t6rurzf5iIlC"
   },
   "outputs": [
    {
     "name": "stdout",
     "output_type": "stream",
     "text": [
      "Downloading data from https://storage.googleapis.com/tensorflow/tf-keras-datasets/mnist.npz\n",
      "11493376/11490434 [==============================] - 2s 0us/step\n",
      "11501568/11490434 [==============================] - 2s 0us/step\n"
     ]
    }
   ],
   "source": [
    "(x_train,y_train),(x_test,y_test)=tf.keras.datasets.mnist.load_data()"
   ]
  },
  {
   "cell_type": "markdown",
   "metadata": {
    "id": "xJqo3g5Z9L2W"
   },
   "source": [
    "## **Plotting count plot**"
   ]
  },
  {
   "cell_type": "code",
   "execution_count": 4,
   "metadata": {
    "colab": {
     "base_uri": "https://localhost:8080/",
     "height": 555
    },
    "id": "NLVovXXghXka",
    "outputId": "fde0c845-ac6e-43b2-f56b-b1a662c11264"
   },
   "outputs": [
    {
     "data": {
      "text/plain": [
       "<matplotlib.axes._subplots.AxesSubplot at 0x28bbc421310>"
      ]
     },
     "execution_count": 4,
     "metadata": {},
     "output_type": "execute_result"
    },
    {
     "data": {
      "image/png": "[encoded data removed]",
      "text/plain": [
       "<Figure size 720x576 with 1 Axes>"
      ]
     },
     "metadata": {
      "needs_background": "light"
     },
     "output_type": "display_data"
    }
   ],
   "source": [
    "plt.figure(figsize = (10,8))\n",
    "sns.countplot(y_train)"
   ]
  },
  {
   "cell_type": "markdown",
   "metadata": {
    "id": "bB1nMMC8j5V6"
   },
   "source": [
    "### **Displaying some images**"
   ]
  },
  {
   "cell_type": "code",
   "execution_count": 5,
   "metadata": {
    "colab": {
     "base_uri": "https://localhost:8080/",
     "height": 147
    },
    "id": "81It_A13iAmL",
    "outputId": "5182a563-863d-47f3-fb8a-523ad36eb09a"
   },
   "outputs": [
    {
     "data": {
      "image/png": "[encoded data removed]",
      "text/plain": [
       "<Figure size 720x288 with 5 Axes>"
      ]
     },
     "metadata": {
      "needs_background": "light"
     },
     "output_type": "display_data"
    }
   ],
   "source": [
    "fig, axes = plt.subplots(ncols=5, sharex=False, \n",
    "    sharey=True, figsize=(10, 4))\n",
    "for i in range(5):\n",
    "    axes[i].set_title(y_train[i])\n",
    "    axes[i].imshow(x_train[i], cmap='gray_r')\n",
    "    axes[i].get_xaxis().set_visible(False)\n",
    "    axes[i].get_yaxis().set_visible(False)\n",
    "plt.show()"
   ]
  },
  {
   "cell_type": "markdown",
   "metadata": {
    "id": "i-qK19N_kCch"
   },
   "source": [
    "### **This means that there are 60,000 images as input data with shape 28 x 28 each.**"
   ]
  },
  {
   "cell_type": "code",
   "execution_count": 6,
   "metadata": {
    "colab": {
     "base_uri": "https://localhost:8080/"
    },
    "id": "NcpUY3CGiX4L",
    "outputId": "d3790f81-e1ad-43ae-94bc-44999810e403"
   },
   "outputs": [
    {
     "name": "stdout",
     "output_type": "stream",
     "text": [
      "Training images shape :  (60000, 28, 28)\n",
      "Testing images shape :  (10000, 28, 28)\n"
     ]
    }
   ],
   "source": [
    "print('Training images shape : ',x_train.shape)\n",
    "print('Testing images shape : ',x_test.shape)"
   ]
  },
  {
   "cell_type": "code",
   "execution_count": 7,
   "metadata": {
    "id": "zbucQbdJiX65"
   },
   "outputs": [],
   "source": [
    "x_train = x_train.reshape(x_train.shape[0], 28, 28, 1)\n",
    "x_test = x_test.reshape(x_test.shape[0], 28, 28, 1)\n",
    "input_shape = (28, 28, 1)"
   ]
  },
  {
   "cell_type": "code",
   "execution_count": 8,
   "metadata": {
    "id": "T4rrA6qviX9d"
   },
   "outputs": [],
   "source": [
    "x_train=x_train/255.0\n",
    "x_testg=x_test/255.0\n",
    "num_classes = 10"
   ]
  },
  {
   "cell_type": "markdown",
   "metadata": {
    "id": "vRZhEWlLihUD"
   },
   "source": [
    "### **Creating the model**\n",
    "Model Architecture\n",
    "We will have to first build the model architecture and define it based on our dataset. We are going to add the following layers:\n",
    "\n",
    "1. Conv2D - for the convolution layers\n",
    "\n",
    "2. Dropout - to prevent overfitting\n",
    "\n",
    "3. Dense - a fully connected layer\n",
    "\n",
    "4. Softmax activation - This is used to convert all predictions into probability The model architecture can be tuned to get optimal performance\n",
    "\n",
    "so i am goimg to create a model with"
   ]
  },
  {
   "cell_type": "markdown",
   "metadata": {
    "id": "2is8TIWsiqVR"
   },
   "source": [
    "### **CNN + Three layers + relu + (3,3) kernel_size + Dropout rate (0.3)**\n"
   ]
  },
  {
   "cell_type": "code",
   "execution_count": 9,
   "metadata": {
    "id": "enSescS2idyK"
   },
   "outputs": [],
   "source": [
    "from tensorflow.keras.models import Sequential\n",
    "from tensorflow.keras.layers import Dense, Dropout, Flatten,Activation\n",
    "from tensorflow.keras.layers import Conv2D,MaxPooling2D\n",
    "from tensorflow.keras.layers import BatchNormalization"
   ]
  },
  {
   "cell_type": "code",
   "execution_count": 10,
   "metadata": {
    "id": "4BhgkgKnid1K"
   },
   "outputs": [],
   "source": [
    "model = Sequential()\n",
    "\n",
    "model.add(Conv2D(128, kernel_size=(3, 3),\n",
    "                 activation=tf.nn.relu,\n",
    "                 input_shape=input_shape))\n",
    "model.add(BatchNormalization())\n",
    "model.add(Dropout(0.3))\n",
    "\n",
    "model.add(Conv2D(64, (3, 3), activation=tf.nn.relu))\n",
    "model.add(BatchNormalization())\n",
    "model.add(Dropout(0.3))\n",
    "\n",
    "model.add(Conv2D(32, (3, 3), activation=tf.nn.relu))\n",
    "model.add(BatchNormalization())\n",
    "model.add(Dropout(0.3))"
   ]
  },
  {
   "cell_type": "code",
   "execution_count": 11,
   "metadata": {
    "id": "lLTTgmDkid3z"
   },
   "outputs": [],
   "source": [
    "model.add(MaxPooling2D(pool_size=(2, 2)))\n",
    "model.add(Dropout(0.3))\n",
    "model.add(Flatten())\n",
    "model.add(Dense(128, activation=tf.nn.relu))\n",
    "model.add(Dropout(0.3))\n",
    "model.add(Dense(num_classes, activation=tf.nn.softmax))"
   ]
  },
  {
   "cell_type": "code",
   "execution_count": 12,
   "metadata": {
    "colab": {
     "base_uri": "https://localhost:8080/"
    },
    "id": "IDaLbqUui6hr",
    "outputId": "e35d210b-05a7-4272-aee3-9e4486c766cb"
   },
   "outputs": [
    {
     "name": "stdout",
     "output_type": "stream",
     "text": [
      "Model: \"sequential\"\n",
      "_________________________________________________________________\n",
      " Layer (type)                Output Shape              Param #   \n",
      "=================================================================\n",
      " conv2d (Conv2D)             (None, 26, 26, 128)       1280      \n",
      "                                                                 \n",
      " batch_normalization (BatchN  (None, 26, 26, 128)      512       \n",
      " ormalization)                                                   \n",
      "                                                                 \n",
      " dropout (Dropout)           (None, 26, 26, 128)       0         \n",
      "                                                                 \n",
      " conv2d_1 (Conv2D)           (None, 24, 24, 64)        73792     \n",
      "                                                                 \n",
      " batch_normalization_1 (Batc  (None, 24, 24, 64)       256       \n",
      " hNormalization)                                                 \n",
      "                                                                 \n",
      " dropout_1 (Dropout)         (None, 24, 24, 64)        0         \n",
      "                                                                 \n",
      " conv2d_2 (Conv2D)           (None, 22, 22, 32)        18464     \n",
      "                                                                 \n",
      " batch_normalization_2 (Batc  (None, 22, 22, 32)       128       \n",
      " hNormalization)                                                 \n",
      "                                                                 \n",
      " dropout_2 (Dropout)         (None, 22, 22, 32)        0         \n",
      "                                                                 \n",
      " max_pooling2d (MaxPooling2D  (None, 11, 11, 32)       0         \n",
      " )                                                               \n",
      "                                                                 \n",
      " dropout_3 (Dropout)         (None, 11, 11, 32)        0         \n",
      "                                                                 \n",
      " flatten (Flatten)           (None, 3872)              0         \n",
      "                                                                 \n",
      " dense (Dense)               (None, 128)               495744    \n",
      "                                                                 \n",
      " dropout_4 (Dropout)         (None, 128)               0         \n",
      "                                                                 \n",
      " dense_1 (Dense)             (None, 10)                1290      \n",
      "                                                                 \n",
      "=================================================================\n",
      "Total params: 591,466\n",
      "Trainable params: 591,018\n",
      "Non-trainable params: 448\n",
      "_________________________________________________________________\n"
     ]
    }
   ],
   "source": [
    "model.summary()"
   ]
  },
  {
   "cell_type": "markdown",
   "metadata": {
    "id": "nByGuSG_jxpr"
   },
   "source": [
    "### **Training the model**"
   ]
  },
  {
   "cell_type": "code",
   "execution_count": 16,
   "metadata": {
    "colab": {
     "base_uri": "https://localhost:8080/"
    },
    "id": "yiCj-gsvi6kh",
    "outputId": "a2b0ef18-7207-481b-83e6-a928be7691dd"
   },
   "outputs": [
    {
     "name": "stdout",
     "output_type": "stream",
     "text": [
      "Epoch 1/10\n",
      "1688/1688 [==============================] - 401s 237ms/step - loss: 0.2719 - accuracy: 0.9194 - val_loss: 0.0722 - val_accuracy: 0.9805\n",
      "Epoch 2/10\n",
      "1688/1688 [==============================] - 380s 225ms/step - loss: 0.1182 - accuracy: 0.9651 - val_loss: 0.1008 - val_accuracy: 0.9752\n",
      "Epoch 3/10\n",
      "1688/1688 [==============================] - 388s 230ms/step - loss: 0.0970 - accuracy: 0.9725 - val_loss: 0.1135 - val_accuracy: 0.9813\n",
      "Epoch 4/10\n",
      "1688/1688 [==============================] - 395s 234ms/step - loss: 0.0778 - accuracy: 0.9770 - val_loss: 0.0952 - val_accuracy: 0.9833\n",
      "Epoch 5/10\n",
      "1688/1688 [==============================] - 365s 217ms/step - loss: 0.0676 - accuracy: 0.9802 - val_loss: 0.1452 - val_accuracy: 0.9770\n",
      "Epoch 6/10\n",
      "1688/1688 [==============================] - 418s 247ms/step - loss: 0.0612 - accuracy: 0.9819 - val_loss: 0.1456 - val_accuracy: 0.9800\n",
      "Epoch 7/10\n",
      "1688/1688 [==============================] - 450s 266ms/step - loss: 0.0574 - accuracy: 0.9838 - val_loss: 0.1219 - val_accuracy: 0.9843\n",
      "Epoch 8/10\n",
      "1688/1688 [==============================] - 446s 264ms/step - loss: 0.0530 - accuracy: 0.9845 - val_loss: 0.1493 - val_accuracy: 0.9808\n",
      "Epoch 9/10\n",
      "1688/1688 [==============================] - 444s 263ms/step - loss: 0.0478 - accuracy: 0.9862 - val_loss: 0.1647 - val_accuracy: 0.9770\n",
      "Epoch 10/10\n",
      "1688/1688 [==============================] - 657s 389ms/step - loss: 0.0452 - accuracy: 0.9866 - val_loss: 0.1210 - val_accuracy: 0.9847\n"
     ]
    }
   ],
   "source": [
    "model.compile(optimizer='adam', \n",
    "              loss='sparse_categorical_crossentropy', \n",
    "              metrics=['accuracy'])\n",
    "history=model.fit(x=x_train,\n",
    "                  y=y_train,\n",
    "                  validation_split=0.1,\n",
    "                  epochs=10)"
   ]
  },
  {
   "cell_type": "markdown",
   "metadata": {
    "id": "nf2txTZi6b8b"
   },
   "source": [
    "### **Saving and loading the model**"
   ]
  },
  {
   "cell_type": "code",
   "execution_count": 17,
   "metadata": {
    "id": "wEla4uaHi6nG"
   },
   "outputs": [],
   "source": [
    "model.save('MNproject.h5')"
   ]
  },
  {
   "cell_type": "code",
   "execution_count": 18,
   "metadata": {
    "id": "dPUiHECYjshR"
   },
   "outputs": [],
   "source": [
    "from tensorflow.keras.models import load_model\n",
    "model = load_model('MNproject.h5')"
   ]
  },
  {
   "cell_type": "markdown",
   "metadata": {
    "id": "UnNJthZ56oMX"
   },
   "source": [
    "### **Evaluating the model**"
   ]
  },
  {
   "cell_type": "code",
   "execution_count": 19,
   "metadata": {
    "colab": {
     "base_uri": "https://localhost:8080/"
    },
    "id": "9rnRUOwijskL",
    "outputId": "09e262a7-e745-406b-c7f9-685700f0a6c2"
   },
   "outputs": [
    {
     "name": "stdout",
     "output_type": "stream",
     "text": [
      "313/313 [==============================] - 10s 28ms/step - loss: 2.6828 - accuracy: 0.9889\n",
      "Test Loss 2.682821273803711\n",
      "Test Accuracy 0.9889000058174133\n"
     ]
    }
   ],
   "source": [
    "loss_and_acc=model.evaluate(x_test,y_test)\n",
    "print(\"Test Loss\", loss_and_acc[0])\n",
    "print(\"Test Accuracy\", loss_and_acc[1])"
   ]
  },
  {
   "cell_type": "markdown",
   "metadata": {
    "id": "meQsYqLg6vwX"
   },
   "source": [
    "### **Plotting Training & Validation plots**"
   ]
  },
  {
   "cell_type": "code",
   "execution_count": 20,
   "metadata": {
    "colab": {
     "base_uri": "https://localhost:8080/",
     "height": 397
    },
    "id": "vObCfHQg6s7X",
    "outputId": "951e9b91-d37f-4be9-841a-e27bcac41bbd"
   },
   "outputs": [
    {
     "data": {
      "image/png": "[encoded data removed]",
      "text/plain": [
       "<Figure size 1440x432 with 2 Axes>"
      ]
     },
     "metadata": {
      "needs_background": "light"
     },
     "output_type": "display_data"
    }
   ],
   "source": [
    "acc = history.history['accuracy']\n",
    "val_acc = history.history['val_accuracy']\n",
    "loss = history.history['loss']\n",
    "val_loss = history.history['val_loss']\n",
    "epochs = range(len(acc))\n",
    "\n",
    "fig, ax = plt.subplots(nrows=1, ncols=2, figsize=(20, 6))\n",
    "ax[0].plot(epochs, acc, 'y', label='Training accuracy')\n",
    "ax[0].plot(epochs, val_acc, 'g', label='Validation accuracy')\n",
    "ax[0].legend(loc=0)\n",
    "ax[1].plot(epochs, loss, 'y', label='Training loss')\n",
    "ax[1].plot(epochs, val_loss, 'g', label='Validation loss')\n",
    "ax[1].legend(loc=0)\n",
    "\n",
    "plt.suptitle('Training and validation')\n",
    "plt.show()"
   ]
  },
  {
   "cell_type": "code",
   "execution_count": 21,
   "metadata": {
    "colab": {
     "base_uri": "https://localhost:8080/"
    },
    "id": "5-_RzUsw6s-K",
    "outputId": "7e3664fa-d9a3-4ed8-97d6-984e57b4f3d8"
   },
   "outputs": [
    {
     "data": {
      "text/plain": [
       "<tf.Tensor: shape=(10, 10), dtype=int32, numpy=\n",
       "array([[ 979,    0,    0,    0,    0,    0,    0,    1,    0,    0],\n",
       "       [   0, 1131,    1,    0,    0,    2,    0,    1,    0,    0],\n",
       "       [   1,    0, 1025,    0,    0,    0,    0,    6,    0,    0],\n",
       "       [   0,    1,    5,  996,    0,    7,    0,    0,    1,    0],\n",
       "       [   0,    0,    0,    0,  973,    0,    4,    0,    2,    3],\n",
       "       [   0,    0,    0,    3,    0,  886,    1,    0,    2,    0],\n",
       "       [   5,    2,    0,    0,    1,    3,  946,    0,    1,    0],\n",
       "       [   0,    4,    6,    2,    0,    0,    0, 1015,    1,    0],\n",
       "       [   3,    0,    2,    0,    0,    0,    0,    2,  964,    3],\n",
       "       [   2,    4,    1,    0,    4,   13,    0,    9,    2,  974]])>"
      ]
     },
     "execution_count": 21,
     "metadata": {},
     "output_type": "execute_result"
    }
   ],
   "source": [
    "y_predicted = model.predict(x_test)\n",
    "y_predicted_labels = [np.argmax(i) for i in y_predicted]\n",
    "cm = tf.math.confusion_matrix(labels=y_test,predictions=y_predicted_labels)\n",
    "cm"
   ]
  },
  {
   "cell_type": "code",
   "execution_count": 22,
   "metadata": {
    "colab": {
     "base_uri": "https://localhost:8080/",
     "height": 459
    },
    "id": "U8f6YExE6tAi",
    "outputId": "4487ae05-a542-4821-9637-e513ce4baa4c"
   },
   "outputs": [
    {
     "data": {
      "text/plain": [
       "Text(69.0, 0.5, 'Truth')"
      ]
     },
     "execution_count": 22,
     "metadata": {},
     "output_type": "execute_result"
    },
    {
     "data": {
      "image/png": "[encoded data removed]",
      "text/plain": [
       "<Figure size 720x504 with 2 Axes>"
      ]
     },
     "metadata": {
      "needs_background": "light"
     },
     "output_type": "display_data"
    }
   ],
   "source": [
    "plt.figure(figsize = (10,7))\n",
    "sns.heatmap(cm, annot=True, fmt='d', cmap = 'coolwarm')\n",
    "plt.xlabel('Predicted')\n",
    "plt.ylabel('Truth')"
   ]
  },
  {
   "cell_type": "code",
   "execution_count": 41,
   "metadata": {
    "colab": {
     "base_uri": "https://localhost:8080/",
     "height": 632
    },
    "id": "x6Fug_xkYMQo",
    "outputId": "fb931971-77c9-4193-e587-02feebcce465"
   },
   "outputs": [
    {
     "data": {
      "text/plain": [
       "<matplotlib.image.AxesImage at 0x28b8b2ced60>"
      ]
     },
     "execution_count": 41,
     "metadata": {},
     "output_type": "execute_result"
    },
    {
     "data": {
      "image/png": "[encoded data removed]",
      "text/plain": [
       "<Figure size 1440x504 with 1 Axes>"
      ]
     },
     "metadata": {
      "needs_background": "light"
     },
     "output_type": "display_data"
    }
   ],
   "source": [
    "plt.imshow(np.squeeze(x_test[0]),cmap=\"Blues\")"
   ]
  },
  {
   "cell_type": "code",
   "execution_count": 35,
   "metadata": {},
   "outputs": [
    {
     "name": "stdout",
     "output_type": "stream",
     "text": [
      "7\n"
     ]
    }
   ],
   "source": [
    "prediction=model.predict(x_test)\n",
    "print(np.argmax(prediction[0]))"
   ]
  },
  {
   "cell_type": "code",
   "execution_count": 42,
   "metadata": {
    "colab": {
     "base_uri": "https://localhost:8080/",
     "height": 299
    },
    "id": "ZefIkimtYMTf",
    "outputId": "3b72a764-96e3-48eb-ae4e-0c3ef190f469"
   },
   "outputs": [
    {
     "data": {
      "text/plain": [
       "<matplotlib.image.AxesImage at 0x28b8b322c70>"
      ]
     },
     "execution_count": 42,
     "metadata": {},
     "output_type": "execute_result"
    },
    {
     "data": {
      "image/png": "[encoded data removed]",
      "text/plain": [
       "<Figure size 1440x504 with 1 Axes>"
      ]
     },
     "metadata": {
      "needs_background": "light"
     },
     "output_type": "display_data"
    }
   ],
   "source": [
    "plt.imshow(np.squeeze(x_test[1]),cmap=\"Blues\")"
   ]
  },
  {
   "cell_type": "code",
   "execution_count": 37,
   "metadata": {},
   "outputs": [
    {
     "name": "stdout",
     "output_type": "stream",
     "text": [
      "2\n"
     ]
    }
   ],
   "source": [
    "prediction=model.predict(x_test)\n",
    "print(np.argmax(prediction[1]))"
   ]
  },
  {
   "cell_type": "markdown",
   "metadata": {
    "id": "7Q-ZlwjFBMCH"
   },
   "source": [
    "## **Thus , our model is predicting handwritten numbers with an accuracy of 98.89 %.**"
   ]
  }
 ],
 "metadata": {
  "colab": {
   "name": "Task 1 - Neural Network That Can Read Handwriting. ipynb",
   "provenance": []
  },
  "kernelspec": {
   "display_name": "Python 3",
   "language": "python",
   "name": "python3"
  },
  "language_info": {
   "codemirror_mode": {
    "name": "ipython",
    "version": 3
   },
   "file_extension": ".py",
   "mimetype": "text/x-python",
   "name": "python",
   "nbconvert_exporter": "python",
   "pygments_lexer": "ipython3",
   "version": "3.8.3"
  }
 },
 "nbformat": 4,
 "nbformat_minor": 1
}
