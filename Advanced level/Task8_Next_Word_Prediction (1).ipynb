{
  "nbformat": 4,
  "nbformat_minor": 0,
  "metadata": {
    "colab": {
      "name": "Task8 - Next Word Prediction.ipynb",
      "provenance": []
    },
    "kernelspec": {
      "name": "python3",
      "display_name": "Python 3"
    },
    "language_info": {
      "name": "python"
    }
  },
  "cells": [
    {
      "cell_type": "markdown",
      "source": [
        "## **Data Science Intern - Lets Grow More**\n",
        "\n",
        "## **Author - Priyangshu Sarkar**\n",
        "\n",
        "## **Task8 - Next Word Prediction**"
      ],
      "metadata": {
        "id": "aFEvbpjsUTPm"
      }
    },
    {
      "cell_type": "markdown",
      "source": [
        "### **Importing the libraries**"
      ],
      "metadata": {
        "id": "eoC4UY13Y97Z"
      }
    },
    {
      "cell_type": "code",
      "source": [
        "import numpy as np\n",
        "import pickle\n",
        "import heapq\n",
        "from nltk.tokenize import RegexpTokenizer\n",
        "from keras.models import Sequential, load_model\n",
        "from keras.layers import LSTM\n",
        "from keras.layers.core import Dense, Activation\n",
        "from tensorflow.keras.optimizers import RMSprop\n",
        "import matplotlib.pyplot as plt"
      ],
      "metadata": {
        "id": "lkw7EF4BUqAG"
      },
      "execution_count": null,
      "outputs": []
    },
    {
      "cell_type": "markdown",
      "source": [
        "### **Loading the dataset**"
      ],
      "metadata": {
        "id": "4dYgSFCNZcxw"
      }
    },
    {
      "cell_type": "code",
      "source": [
        "text = open('sample.txt',encoding='UTF-8').read().lower()\n"
      ],
      "metadata": {
        "id": "XvXVr5jZXNOg"
      },
      "execution_count": null,
      "outputs": []
    },
    {
      "cell_type": "markdown",
      "source": [
        "### **Splitting the entire dataset into each word in order without the presence of special characters**"
      ],
      "metadata": {
        "id": "8pR36RQUdOvk"
      }
    },
    {
      "cell_type": "code",
      "source": [
        "tokenizer = RegexpTokenizer(r'\\w+')\n",
        "words = tokenizer.tokenize(text)"
      ],
      "metadata": {
        "id": "hlfxxleleQET"
      },
      "execution_count": null,
      "outputs": []
    },
    {
      "cell_type": "code",
      "source": [
        "tr = RegexpTokenizer(r'\\w+')\n",
        "words = tr.tokenize(text)\n",
        "unique_words = np.unique(words)\n",
        "uw_index = dict((c, i) for i, c in enumerate(unique_words))"
      ],
      "metadata": {
        "id": "t8I0IUCPdLta"
      },
      "execution_count": null,
      "outputs": []
    },
    {
      "cell_type": "markdown",
      "source": [
        "### **Feature engineering**"
      ],
      "metadata": {
        "id": "9SVDxk0odY0S"
      }
    },
    {
      "cell_type": "code",
      "source": [
        "WORD_LENGTH = 5\n",
        "prev_words = []\n",
        "next_words = []\n",
        "for i in range(len(words) - WORD_LENGTH):\n",
        "    prev_words.append(words[i:i + WORD_LENGTH])\n",
        "    next_words.append(words[i + WORD_LENGTH])\n",
        "print(prev_words[0])\n",
        "print(next_words[0])"
      ],
      "metadata": {
        "colab": {
          "base_uri": "https://localhost:8080/"
        },
        "id": "4Za56v3yd6WB",
        "outputId": "308e34e0-6428-4047-d188-b6bbc4c421fd"
      },
      "execution_count": null,
      "outputs": [
        {
          "output_type": "stream",
          "name": "stdout",
          "text": [
            "['project', 'gutenberg', 's', 'the', 'adventures']\n",
            "of\n"
          ]
        }
      ]
    },
    {
      "cell_type": "markdown",
      "source": [
        "### **Dictionary(<key: value>) with each word form the unique_words list as key and its corresponding position as value.**"
      ],
      "metadata": {
        "id": "T9cYkQ9Odddi"
      }
    },
    {
      "cell_type": "code",
      "source": [
        "unique_words = np.unique(words)\n",
        "unique_word_index = dict((c, i) for i, c in enumerate(unique_words))"
      ],
      "metadata": {
        "id": "sQu_0bQyec-W"
      },
      "execution_count": null,
      "outputs": []
    },
    {
      "cell_type": "code",
      "source": [
        "X = np.zeros((len(prev), len_w, len(unique_words)), dtype=bool)\n",
        "Y = np.zeros((len(nextw), len(unique_words)), dtype=bool)"
      ],
      "metadata": {
        "id": "q4QYKzkdXNUw"
      },
      "execution_count": null,
      "outputs": []
    },
    {
      "cell_type": "markdown",
      "source": [
        "### **One-Hot encoding**"
      ],
      "metadata": {
        "id": "lx8LIOy9esaJ"
      }
    },
    {
      "cell_type": "code",
      "source": [
        "X = np.zeros((len(prev_words), WORD_LENGTH, len(unique_words)), dtype=bool)\n",
        "Y = np.zeros((len(next_words), len(unique_words)), dtype=bool)\n",
        "for i, each_words in enumerate(prev_words):\n",
        "    for j, each_word in enumerate(each_words):\n",
        "        X[i, j, unique_word_index[each_word]] = 1\n",
        "    Y[i, unique_word_index[next_words[i]]] = 1"
      ],
      "metadata": {
        "id": "VwUzbt-edutz"
      },
      "execution_count": null,
      "outputs": []
    },
    {
      "cell_type": "code",
      "source": [
        "print(X[0][1])"
      ],
      "metadata": {
        "colab": {
          "base_uri": "https://localhost:8080/"
        },
        "id": "WouSnM8jYHuR",
        "outputId": "98a83a0d-d4cc-4cc8-8ed3-09c4ed1d0100"
      },
      "execution_count": null,
      "outputs": [
        {
          "output_type": "stream",
          "name": "stdout",
          "text": [
            "[False False False ... False False False]\n"
          ]
        }
      ]
    },
    {
      "cell_type": "markdown",
      "source": [
        "### **Building the model**\n"
      ],
      "metadata": {
        "id": "o8sDnaWEZxb4"
      }
    },
    {
      "cell_type": "code",
      "source": [
        "model = Sequential()\n",
        "model.add(LSTM(128, input_shape=(len_w, len(unique_words))))\n",
        "model.add(Dense(len(unique_words)))\n",
        "model.add(Activation('softmax'))\n",
        "optimizer = RMSprop(lr=0.01)\n",
        "model.compile(loss='categorical_crossentropy', optimizer=optimizer, metrics=['accuracy'])\n",
        "history = model.fit(X, Y, validation_split=0.05, batch_size=128, epochs=5, shuffle=True).history"
      ],
      "metadata": {
        "colab": {
          "base_uri": "https://localhost:8080/"
        },
        "id": "u-BmFZboYHxY",
        "outputId": "1d301c50-f8c8-4acd-c390-62bc9a928f40"
      },
      "execution_count": null,
      "outputs": [
        {
          "output_type": "stream",
          "name": "stderr",
          "text": [
            "/usr/local/lib/python3.7/dist-packages/keras/optimizer_v2/rmsprop.py:130: UserWarning: The `lr` argument is deprecated, use `learning_rate` instead.\n",
            "  super(RMSprop, self).__init__(name, **kwargs)\n"
          ]
        },
        {
          "output_type": "stream",
          "name": "stdout",
          "text": [
            "Epoch 1/5\n",
            "811/811 [==============================] - 252s 306ms/step - loss: 6.0110 - accuracy: 0.1075 - val_loss: 7.0217 - val_accuracy: 0.1014\n",
            "Epoch 2/5\n",
            "811/811 [==============================] - 239s 295ms/step - loss: 5.7842 - accuracy: 0.1466 - val_loss: 7.9583 - val_accuracy: 0.1089\n",
            "Epoch 3/5\n",
            "811/811 [==============================] - 231s 285ms/step - loss: 5.7548 - accuracy: 0.1761 - val_loss: 7.8694 - val_accuracy: 0.0994\n",
            "Epoch 4/5\n",
            "811/811 [==============================] - 233s 287ms/step - loss: 5.4291 - accuracy: 0.2107 - val_loss: 8.2254 - val_accuracy: 0.1071\n",
            "Epoch 5/5\n",
            "811/811 [==============================] - 232s 286ms/step - loss: 5.0843 - accuracy: 0.2509 - val_loss: 8.4779 - val_accuracy: 0.0903\n"
          ]
        }
      ]
    },
    {
      "cell_type": "markdown",
      "source": [
        " ### **Saving the model and loading it back**"
      ],
      "metadata": {
        "id": "3d3I9UdffdLR"
      }
    },
    {
      "cell_type": "code",
      "source": [
        "model.save('keras_next_word_model.h5') \n",
        "pickle.dump(history, open(\"history.p\", \"wb\")) \n",
        "model = load_model('keras_next_word_model.h5') \n",
        "history = pickle.load(open(\"history.p\", \"rb\"))"
      ],
      "metadata": {
        "id": "-f8O2XIXYH0G"
      },
      "execution_count": null,
      "outputs": []
    },
    {
      "cell_type": "code",
      "source": [
        "history"
      ],
      "metadata": {
        "colab": {
          "base_uri": "https://localhost:8080/"
        },
        "id": "AJF1cMEEYH2R",
        "outputId": "27d214e9-aebc-441b-e353-e7d4872ba7ab"
      },
      "execution_count": null,
      "outputs": [
        {
          "output_type": "execute_result",
          "data": {
            "text/plain": [
              "{'accuracy': [0.1075376570224762,\n",
              "  0.14656077325344086,\n",
              "  0.17605219781398773,\n",
              "  0.21065160632133484,\n",
              "  0.2508794367313385],\n",
              " 'loss': [6.011016368865967,\n",
              "  5.784184455871582,\n",
              "  5.754777431488037,\n",
              "  5.429145336151123,\n",
              "  5.084348678588867],\n",
              " 'val_accuracy': [0.10142804682254791,\n",
              "  0.10893445461988449,\n",
              "  0.09941413253545761,\n",
              "  0.1071036234498024,\n",
              "  0.09025997668504715],\n",
              " 'val_loss': [7.021693229675293,\n",
              "  7.958327293395996,\n",
              "  7.869421482086182,\n",
              "  8.225423812866211,\n",
              "  8.477907180786133]}"
            ]
          },
          "metadata": {},
          "execution_count": 22
        }
      ]
    },
    {
      "cell_type": "code",
      "source": [
        "plt.plot(history['accuracy'])\n",
        "plt.plot(history['val_accuracy'])\n",
        "plt.ylabel('accuracy')\n",
        "plt.xlabel('epochs')\n",
        "plt.legend(['train', 'test'], loc='lower right')"
      ],
      "metadata": {
        "colab": {
          "base_uri": "https://localhost:8080/",
          "height": 296
        },
        "id": "JtG-jX7OfWXC",
        "outputId": "d79d489f-6300-4ca5-b4e6-9f376dc6689b"
      },
      "execution_count": null,
      "outputs": [
        {
          "output_type": "execute_result",
          "data": {
            "text/plain": [
              "<matplotlib.legend.Legend at 0x7f494f1aa590>"
            ]
          },
          "metadata": {},
          "execution_count": 23
        },
        {
          "output_type": "display_data",
          "data": {
            "text/plain": [
              "<Figure size 432x288 with 1 Axes>"
            ],
            "image/png": "[encoded data removed]"
          },
          "metadata": {
            "needs_background": "light"
          }
        }
      ]
    },
    {
      "cell_type": "code",
      "source": [
        "plt.plot(history['loss'])\n",
        "plt.plot(history['val_loss'])\n",
        "plt.title('model loss')\n",
        "plt.ylabel('loss')\n",
        "plt.xlabel('epoch')\n",
        "plt.legend(['train', 'test'], loc='upper left')"
      ],
      "metadata": {
        "colab": {
          "base_uri": "https://localhost:8080/",
          "height": 312
        },
        "id": "eGAiPTbhfWZZ",
        "outputId": "d67ba98a-3f1e-41e2-dc9f-17a38a6982b7"
      },
      "execution_count": null,
      "outputs": [
        {
          "output_type": "execute_result",
          "data": {
            "text/plain": [
              "<matplotlib.legend.Legend at 0x7f494ec690d0>"
            ]
          },
          "metadata": {},
          "execution_count": 24
        },
        {
          "output_type": "display_data",
          "data": {
            "text/plain": [
              "<Figure size 432x288 with 1 Axes>"
            ],
            "image/png": "[encoded data removed]"
          },
          "metadata": {
            "needs_background": "light"
          }
        }
      ]
    },
    {
      "cell_type": "markdown",
      "source": [
        "### **Prediction**"
      ],
      "metadata": {
        "id": "rbqBOrO6fyS6"
      }
    },
    {
      "cell_type": "code",
      "source": [
        "def prepare_input(text):\n",
        "    x = np.zeros((1, len_w, len(unique_words)))\n",
        "    for t, word in enumerate(text.split()):\n",
        "        print(word)\n",
        "        x[0, t, uw_index[word]] = 1\n",
        "    return x\n",
        "\n",
        "def sample(preds, top_n=3):\n",
        "    preds = np.asarray(preds).astype('float64')\n",
        "    preds = np.log(preds)\n",
        "    exp_preds = np.exp(preds)\n",
        "    preds = exp_preds / np.sum(exp_preds)\n",
        "    return heapq.nlargest(top_n, range(len(preds)), preds.take)\n"
      ],
      "metadata": {
        "id": "DTQz7cPAfq_Z"
      },
      "execution_count": null,
      "outputs": []
    },
    {
      "cell_type": "code",
      "source": [
        "def prepare_input(text):\n",
        "    x = np.zeros((1, WORD_LENGTH, len(unique_words)))\n",
        "    for t, word in enumerate(text.split()):\n",
        "        print(word)\n",
        "        x[0, t, unique_word_index[word]] = 1\n",
        "    return x\n",
        "prepare_input(\"It is not a lack\".lower())"
      ],
      "metadata": {
        "colab": {
          "base_uri": "https://localhost:8080/"
        },
        "id": "O2uFKFZKf2i6",
        "outputId": "802b86ae-3d61-4403-d696-92fda37b1843"
      },
      "execution_count": null,
      "outputs": [
        {
          "output_type": "stream",
          "name": "stdout",
          "text": [
            "it\n",
            "is\n",
            "not\n",
            "a\n",
            "lack\n"
          ]
        },
        {
          "output_type": "execute_result",
          "data": {
            "text/plain": [
              "array([[[0., 0., 0., ..., 0., 0., 0.],\n",
              "        [0., 0., 0., ..., 0., 0., 0.],\n",
              "        [0., 0., 0., ..., 0., 0., 0.],\n",
              "        [0., 0., 0., ..., 0., 0., 0.],\n",
              "        [0., 0., 0., ..., 0., 0., 0.]]])"
            ]
          },
          "metadata": {},
          "execution_count": 26
        }
      ]
    },
    {
      "cell_type": "code",
      "source": [
        "def predict_completion(text):\n",
        "    original_text = text\n",
        "    generated = text\n",
        "    completion = ''\n",
        "    while True:\n",
        "        x = prepare_input(text)\n",
        "        preds = model.predict(x, verbose=0)[0]\n",
        "        next_index = sample(preds, top_n=1)[0]\n",
        "        next_char = indices_char[next_index]\n",
        "        text = text[1:] + next_char\n",
        "        completion += next_char\n",
        "        if len(original_text + completion) + 2 > len(original_text) and next_char == ' ':\n",
        "            return completion\n",
        "        \n",
        "def predict_word(text, n=3):\n",
        "    x = prepare_input(text)\n",
        "    preds = model.predict(x, verbose=0)[0]\n",
        "    next_indices = sample(preds, n)\n",
        "    return [unique_words[idx] for idx in next_indices]"
      ],
      "metadata": {
        "id": "kOrACDLRf2la"
      },
      "execution_count": null,
      "outputs": []
    },
    {
      "cell_type": "code",
      "source": [
        "quotes = [\n",
        "    \"It is not a lack of love, but a lack of friendship that makes unhappy marriages.\",\n",
        "    \"That which does not kill us makes us stronger.\",\n",
        "    \"I'm not upset that you lied to me, I'm upset that from now on I can't believe you.\",\n",
        "    \"And those who were seen dancing were thought to be insane by those who could not hear the music.\",\n",
        "    \"It is hard enough to remember my opinions, without also remembering my reasons for them!\"\n",
        "]\n",
        "\n",
        "for q in quotes:\n",
        "    print(\"original sentence: \",q)\n",
        "    seq = \" \".join(tr.tokenize(q.lower())[0:5])\n",
        "    print(\"sequence: \",seq)\n",
        "    print(\"next possible words: \", predict_word(seq, 5))"
      ],
      "metadata": {
        "colab": {
          "base_uri": "https://localhost:8080/"
        },
        "id": "RGgd1fw3gENx",
        "outputId": "9cb06339-5cb8-43ea-f3d8-a37a966c5805"
      },
      "execution_count": null,
      "outputs": [
        {
          "output_type": "stream",
          "name": "stdout",
          "text": [
            "original sentence:  It is not a lack of love, but a lack of friendship that makes unhappy marriages.\n",
            "sequence:  it is not a lack\n",
            "it\n",
            "is\n",
            "not\n",
            "a\n",
            "lack\n",
            "next possible words:  ['to', 'little', 'one', 'at', 'man']\n",
            "original sentence:  That which does not kill us makes us stronger.\n",
            "sequence:  that which does not kill\n",
            "that\n",
            "which\n",
            "does\n",
            "not\n",
            "kill\n",
            "next possible words:  ['it', 'why', 'in', 'to', 'him']\n",
            "original sentence:  I'm not upset that you lied to me, I'm upset that from now on I can't believe you.\n",
            "sequence:  i m not upset that\n",
            "i\n",
            "m\n",
            "not\n",
            "upset\n",
            "that\n",
            "next possible words:  ['i', 'there', 'it', 'the', 'of']\n",
            "original sentence:  And those who were seen dancing were thought to be insane by those who could not hear the music.\n",
            "sequence:  and those who were seen\n",
            "and\n",
            "those\n",
            "who\n",
            "were\n",
            "seen\n",
            "next possible words:  ['by', 'of', 'more', 'from', 'the']\n",
            "original sentence:  It is hard enough to remember my opinions, without also remembering my reasons for them!\n",
            "sequence:  it is hard enough to\n",
            "it\n",
            "is\n",
            "hard\n",
            "enough\n",
            "to\n",
            "next possible words:  ['do', 'have', 'say', 'think', 'be']\n"
          ]
        }
      ]
    },
    {
      "cell_type": "code",
      "source": [
        ""
      ],
      "metadata": {
        "id": "_bf2AoR6gEYh"
      },
      "execution_count": null,
      "outputs": []
    }
  ]
}